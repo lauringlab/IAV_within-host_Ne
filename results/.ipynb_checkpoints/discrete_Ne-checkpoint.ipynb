{
 "cells": [
  {
   "cell_type": "markdown",
   "metadata": {},
   "source": [
    "Addapting the set up in Williamsom and Slatkin we are after\n",
    "\n",
    "$$\n",
    "P(p_0,p_t|N_e) = \\sum_{q_0,q_t}P(p_0|q_0)P(q_0|N_e)P(p_t|q_t)P(q_t|q_0,N_e)\n",
    "$$\n",
    "\n",
    "Where p are the observed probabilities and q are the real ones.\n",
    "\n",
    "$$\n",
    "P(p_x|q_x) = N(q_x,0.014)\n",
    "$$\n",
    "\n",
    "$$\n",
    "P(q_0|N_e) = \\frac{1}{N_e-1}\n",
    "$$ \n",
    "as we are only looking at polymorphic sites\n",
    "\n",
    "and \n",
    "\n",
    "$$\n",
    "P(q_t|q_0,N_e) = v_0M^tv_t\n",
    "$$\n",
    "\n",
    "Where M is a square transmisssion matrix with $C=N+1$ rows and columns. Where $m_{i,j}$ is the probablilty of going from the ith configuration to the jth or the probability of drawing j out of binomial distirubution with mean $i/N_e$ and sample size $N_e$ and $v_0$ is a row vector of initial frequencies $q_0$ and $v_t$ is column vector of the frequencies at time point $t$ with 100% chance of the observed frequencies i.e. ( zeroes everywhere except the ith component =1 where $i/N_e = q_0$\n",
    "\n",
    "\n",
    "\n",
    "### Modifying \n",
    "\n",
    "The summation terms are computationaly intense. I noticed that for a given q_0i and q_tj the term is \n",
    "$$\n",
    "P(p_0|q_{0i})P(q_{0i}|N_e)[0 0 ... 1_i ... 0]M^t\\begin{bmatrix}\n",
    "    0 \\\\\n",
    "    0 \\\\\n",
    "    \\vdots \\\\\n",
    "    1_j \\\\\n",
    "    \\vdots \\\\\n",
    "    0\n",
    "\\end{bmatrix} P(p_t|q_{tj})\n",
    "$$\n",
    "\n",
    "\n",
    "This can be simplified to \n",
    "\n",
    "$$\n",
    "[0 0 ... P(p_0|q_{0i})P(q_{0i}|N_e) ... 0]M^t\\begin{bmatrix}\n",
    "    0 \\\\\n",
    "    0 \\\\\n",
    "    \\vdots \\\\\n",
    "    P(p_t|q_{tj}) \\\\\n",
    "    \\vdots \\\\\n",
    "    0\n",
    "\\end{bmatrix} \n",
    "$$\n",
    "\n",
    "Summing accross all i and j yeilds\n",
    "$$\n",
    "P(p_0,p_t|N_e) = [0, P(p_0|q_{02})P(q_{02}|N_e),  ...,  P(p_0|q_{0Ne-1})P(q_{0_Ne-1}|N_e), 0 ]M^t \\begin{bmatrix}\n",
    "    P(p_t|q_{t1}) \\\\\n",
    "    \\vdots \\\\\n",
    "    P(p_t|q_{tNe})\n",
    "\\end{bmatrix} \n",
    "$$\n",
    "\n",
    "Which is much more computationaly feasible.\n"
   ]
  },
  {
   "cell_type": "code",
   "execution_count": 20,
   "metadata": {},
   "outputs": [
    {
     "name": "stderr",
     "output_type": "stream",
     "text": [
      "┌ Info: Precompiling CSV [336ed68f-0bac-5ca0-87d4-7b16caf5d00b]\n",
      "└ @ Base loading.jl:1192\n"
     ]
    }
   ],
   "source": [
    "using Distributed\n",
    "using CSV\n",
    "addprocs(8)\n",
    "@everywhere using Distributions\n",
    "@everywhere  using DataFrames\n",
    "#@everywhere using Plots; pyplot()\n",
    "#@everywhere using ProgressMeter\n",
    "@everywhere include(\"../scripts/Slatkin_functions.jl\")"
   ]
  },
  {
   "cell_type": "code",
   "execution_count": 2,
   "metadata": {},
   "outputs": [],
   "source": [
    "#if !Plots.is_installed(\"PyPlot\")\n",
    "#    Pkg.add(\"PyPlot\")\n",
    "#end\n",
    "#withenv(\"PYTHON\" => \"\") do\n",
    "#    Pkg.build(\"PyPlot\")\n",
    "#end"
   ]
  },
  {
   "cell_type": "code",
   "execution_count": 74,
   "metadata": {},
   "outputs": [
    {
     "data": {
      "text/plain": [
       "write_to_summary (generic function with 1 method)"
      ]
     },
     "execution_count": 74,
     "metadata": {},
     "output_type": "execute_result"
    }
   ],
   "source": [
    "function write_to_summary(line_pattern,value)\n",
    "    lines = []    \n",
    "    sr = Regex(\"^$line_pattern.*\")\n",
    "    open(\"./results.table.tsv\") do results\n",
    "        for line in enumerate(eachline(results))\n",
    "            line_s = line[2]\n",
    "            if occursin(sr,line_s)\n",
    "            line_s = \"$line_pattern\\t$value\"\n",
    "            end\n",
    "        push!(lines,line_s)\n",
    "        end\n",
    "    end\n",
    "    open(\"./results.table.tsv\",\"w\") do output\n",
    "        for l in lines\n",
    "           write(output,\"$l\\n\")\n",
    "        end\n",
    "    end\n",
    "end\n",
    "\n"
   ]
  },
  {
   "cell_type": "markdown",
   "metadata": {},
   "source": [
    "## Test run\n",
    "\n",
    "Here is the density  for a variant starting at 15% in a population of 100 1 generation later."
   ]
  },
  {
   "cell_type": "code",
   "execution_count": 16,
   "metadata": {
    "scrolled": true
   },
   "outputs": [
    {
     "data": {
      "text/plain": [
       "100-element Array{Float64,1}:\n",
       " 0.0013944104034883248 \n",
       " 0.005825206766822573  \n",
       " 0.020433044857115543  \n",
       " 0.06136267855135515   \n",
       " 0.1603377225375315    \n",
       " 0.3694705261071853    \n",
       " 0.7593781119758436    \n",
       " 1.4055338836430644    \n",
       " 2.3620625679566447    \n",
       " 3.6297163307150186    \n",
       " 5.131447978647319     \n",
       " 6.709774234203813     \n",
       " 8.152804540845176     \n",
       " ⋮                     \n",
       " 1.1600751417559164e-45\n",
       " 6.313452499612045e-47 \n",
       " 3.230421618266194e-48 \n",
       " 1.5497586208131239e-49\n",
       " 6.949517787882793e-51 \n",
       " 2.903066137541164e-52 \n",
       " 1.1254495021012369e-53\n",
       " 4.031976240853602e-55 \n",
       " 1.328479812136077e-56 \n",
       " 4.0038935698044595e-58\n",
       " 1.0970247830101302e-59\n",
       " 2.713165772337871e-61 "
      ]
     },
     "execution_count": 16,
     "metadata": {},
     "output_type": "execute_result"
    }
   ],
   "source": [
    "pₓ = range(0.0,stop=1.0,length=100)\n",
    "\n",
    "prob = zeros(length(pₓ))\n",
    "\n",
    "p₀ = 0.15\n",
    "Nₑ = 100\n",
    "t = 1\n",
    "for i in 1:length(pₓ)\n",
    "    prob[i] = pTransition(pₓ[i],p₀,Nₑ,t)\n",
    "end\n",
    "\n",
    "prob\n",
    "#plot(pₓ,prob)"
   ]
  },
  {
   "cell_type": "markdown",
   "metadata": {},
   "source": [
    "## Now 10 generations later"
   ]
  },
  {
   "cell_type": "code",
   "execution_count": 17,
   "metadata": {},
   "outputs": [
    {
     "data": {
      "text/plain": [
       "100-element Array{Float64,1}:\n",
       " 2.822460723821146    \n",
       " 3.2631320323433446   \n",
       " 3.264392726573338    \n",
       " 3.2778543207373882   \n",
       " 3.395574075610135    \n",
       " 3.528039711808259    \n",
       " 3.629906434980679    \n",
       " 3.6960359961302953   \n",
       " 3.729216019334845    \n",
       " 3.732478636894231    \n",
       " 3.7086837591920037   \n",
       " 3.660636749199648    \n",
       " 3.591119282486091    \n",
       " ⋮                    \n",
       " 5.90748353543279e-6  \n",
       " 3.7800437475825293e-6\n",
       " 2.366023507359417e-6 \n",
       " 1.4446992413180721e-6\n",
       " 8.576471502440375e-7 \n",
       " 4.929284638512486e-7 \n",
       " 2.7281584291292373e-7\n",
       " 1.443818482608344e-7 \n",
       " 7.237630486243042e-8 \n",
       " 3.3912684240579306e-8\n",
       " 1.4565411441588407e-8\n",
       " 5.560409196649508e-9 "
      ]
     },
     "execution_count": 17,
     "metadata": {},
     "output_type": "execute_result"
    }
   ],
   "source": [
    "p₀ = 0.15\n",
    "Nₑ = 100\n",
    "t = 10\n",
    "for i in 1:length(pₓ)\n",
    "    prob[i] = pTransition(pₓ[i],p₀,Nₑ,t)\n",
    "end\n",
    "\n",
    "prob\n",
    "#plot(pₓ,prob)"
   ]
  },
  {
   "cell_type": "markdown",
   "metadata": {},
   "source": [
    "# The real data\n",
    "\n",
    "Here we read in the real data. We will only be using data points that were taken at least 1 day apart. Also we assume a generation time of 6 hrs or 4 generations in a day"
   ]
  },
  {
   "cell_type": "code",
   "execution_count": 77,
   "metadata": {
    "scrolled": true
   },
   "outputs": [
    {
     "name": "stderr",
     "output_type": "stream",
     "text": [
      "┌ Warning: `getindex(df::DataFrame, col_ind::ColumnIndex)` is deprecated, use `df[!, col_ind]` instead.\n",
      "│   caller = top-level scope at In[77]:2\n",
      "└ @ Core In[77]:2\n",
      "┌ Warning: `getindex(df::DataFrame, col_ind::ColumnIndex)` is deprecated, use `df[!, col_ind]` instead.\n",
      "│   caller = top-level scope at In[77]:3\n",
      "└ @ Core In[77]:3\n",
      "┌ Warning: `getindex(df::DataFrame, col_ind::ColumnIndex)` is deprecated, use `df[!, col_ind]` instead.\n",
      "│   caller = top-level scope at In[77]:4\n",
      "└ @ Core In[77]:4\n",
      "┌ Warning: `setindex!(df::DataFrame, v::AbstractVector, col_ind::ColumnIndex)` is deprecated, use `begin\n",
      "│     df[!, col_ind] = v\n",
      "│     df\n",
      "│ end` instead.\n",
      "│   caller = top-level scope at In[77]:4\n",
      "└ @ Core In[77]:4\n"
     ]
    },
    {
     "data": {
      "text/html": [
       "<table class=\"data-frame\"><thead><tr><th></th><th>Column1</th><th>chr</th><th>pos</th><th>SPECID1</th><th>SPECID2</th><th>HOUSE_ID</th><th>ENROLLID</th><th>onset</th><th>collect1</th></tr><tr><th></th><th>Int64</th><th>String</th><th>Int64</th><th>String</th><th>String</th><th>Int64</th><th>Int64</th><th>Date…</th><th>Date…</th></tr></thead><tbody><p>63 rows × 24 columns (omitted printing of 15 columns)</p><tr><th>1</th><td>2</td><td>HA</td><td>1011</td><td>HS1376</td><td>MH7755</td><td>5033</td><td>50141</td><td>2014-12-03</td><td>2014-12-04</td></tr><tr><th>2</th><td>3</td><td>HA</td><td>1019</td><td>HS1516</td><td>MH8439</td><td>5109</td><td>50468</td><td>2014-12-21</td><td>2014-12-21</td></tr><tr><th>3</th><td>6</td><td>HA</td><td>140</td><td>HS1335</td><td>MH7612</td><td>5073</td><td>50319</td><td>2014-11-25</td><td>2014-11-25</td></tr><tr><th>4</th><td>8</td><td>HA</td><td>1486</td><td>HS1381</td><td>MH7800</td><td>5204</td><td>50874</td><td>2014-12-05</td><td>2014-12-05</td></tr><tr><th>5</th><td>9</td><td>HA</td><td>1670</td><td>HS1340</td><td>MH7627</td><td>5048</td><td>50207</td><td>2014-11-30</td><td>2014-11-30</td></tr><tr><th>6</th><td>11</td><td>HA</td><td>236</td><td>HS1376</td><td>MH7755</td><td>5033</td><td>50141</td><td>2014-12-03</td><td>2014-12-04</td></tr><tr><th>7</th><td>14</td><td>HA</td><td>273</td><td>HS1416</td><td>MH7890</td><td>5070</td><td>50305</td><td>2014-12-05</td><td>2014-12-07</td></tr><tr><th>8</th><td>16</td><td>HA</td><td>418</td><td>HS1595</td><td>MH8925</td><td>5234</td><td>50993</td><td>2015-01-04</td><td>2015-01-06</td></tr><tr><th>9</th><td>17</td><td>HA</td><td>491</td><td>HS1566</td><td>MH8700</td><td>5039</td><td>50167</td><td>2014-12-27</td><td>2014-12-28</td></tr><tr><th>10</th><td>19</td><td>HA</td><td>524</td><td>HS1390</td><td>MH7852</td><td>5341</td><td>51438</td><td>2014-12-07</td><td>2014-12-07</td></tr><tr><th>11</th><td>22</td><td>HA</td><td>545</td><td>HS1409</td><td>MH7886</td><td>5126</td><td>50540</td><td>2014-12-06</td><td>2014-12-06</td></tr><tr><th>12</th><td>23</td><td>HA</td><td>638</td><td>HS1390</td><td>MH7852</td><td>5341</td><td>51438</td><td>2014-12-07</td><td>2014-12-07</td></tr><tr><th>13</th><td>26</td><td>HA</td><td>879</td><td>HS1401</td><td>MH7855</td><td>5228</td><td>50968</td><td>2014-12-06</td><td>2014-12-07</td></tr><tr><th>14</th><td>30</td><td>HA</td><td>995</td><td>HS1256</td><td>MH7391</td><td>5129</td><td>50553</td><td>2014-11-16</td><td>2014-11-16</td></tr><tr><th>15</th><td>31</td><td>HA</td><td>997</td><td>HS1604</td><td>MH9045</td><td>5034</td><td>50143</td><td>2015-01-11</td><td>2015-01-12</td></tr><tr><th>16</th><td>33</td><td>M</td><td>303</td><td>HS1595</td><td>MH8925</td><td>5234</td><td>50993</td><td>2015-01-04</td><td>2015-01-06</td></tr><tr><th>17</th><td>35</td><td>M</td><td>553</td><td>HS1520</td><td>MH8445</td><td>5250</td><td>51059</td><td>2014-12-22</td><td>2014-12-22</td></tr><tr><th>18</th><td>37</td><td>NP</td><td>1011</td><td>HS1416</td><td>MH7890</td><td>5070</td><td>50305</td><td>2014-12-05</td><td>2014-12-07</td></tr><tr><th>19</th><td>44</td><td>NP</td><td>1334</td><td>HS1417</td><td>MH7891</td><td>5078</td><td>50331</td><td>2014-12-09</td><td>2014-12-09</td></tr><tr><th>20</th><td>46</td><td>NP</td><td>207</td><td>HS1336</td><td>MH7611</td><td>5073</td><td>50318</td><td>2014-11-23</td><td>2014-11-23</td></tr><tr><th>21</th><td>51</td><td>NP</td><td>723</td><td>HS1256</td><td>MH7391</td><td>5129</td><td>50553</td><td>2014-11-16</td><td>2014-11-16</td></tr><tr><th>22</th><td>54</td><td>NP</td><td>912</td><td>HS1579</td><td>MH8766</td><td>5057</td><td>50246</td><td>2015-01-01</td><td>2015-01-01</td></tr><tr><th>23</th><td>55</td><td>NP</td><td>942</td><td>HS1421</td><td>MH7905</td><td>5245</td><td>51046</td><td>2014-12-08</td><td>2014-12-09</td></tr><tr><th>24</th><td>58</td><td>NR</td><td>1099</td><td>HS1531</td><td>MH8592</td><td>5098</td><td>50418</td><td>2014-12-27</td><td>2014-12-28</td></tr><tr><th>25</th><td>59</td><td>NR</td><td>168</td><td>HS1408</td><td>MH7884</td><td>5126</td><td>50538</td><td>2014-12-08</td><td>2014-12-06</td></tr><tr><th>26</th><td>61</td><td>NR</td><td>174</td><td>HS1408</td><td>MH7884</td><td>5126</td><td>50538</td><td>2014-12-08</td><td>2014-12-06</td></tr><tr><th>27</th><td>63</td><td>NR</td><td>204</td><td>HS1408</td><td>MH7884</td><td>5126</td><td>50538</td><td>2014-12-08</td><td>2014-12-06</td></tr><tr><th>28</th><td>65</td><td>NR</td><td>220</td><td>HS1408</td><td>MH7884</td><td>5126</td><td>50538</td><td>2014-12-08</td><td>2014-12-06</td></tr><tr><th>29</th><td>67</td><td>NR</td><td>221</td><td>HS1408</td><td>MH7884</td><td>5126</td><td>50538</td><td>2014-12-08</td><td>2014-12-06</td></tr><tr><th>30</th><td>69</td><td>NR</td><td>249</td><td>HS1408</td><td>MH7884</td><td>5126</td><td>50538</td><td>2014-12-08</td><td>2014-12-06</td></tr><tr><th>&vellip;</th><td>&vellip;</td><td>&vellip;</td><td>&vellip;</td><td>&vellip;</td><td>&vellip;</td><td>&vellip;</td><td>&vellip;</td><td>&vellip;</td><td>&vellip;</td></tr></tbody></table>"
      ],
      "text/latex": [
       "\\begin{tabular}{r|cccccccccc}\n",
       "\t& Column1 & chr & pos & SPECID1 & SPECID2 & HOUSE\\_ID & ENROLLID & onset & collect1 & \\\\\n",
       "\t\\hline\n",
       "\t& Int64 & String & Int64 & String & String & Int64 & Int64 & Date… & Date… & \\\\\n",
       "\t\\hline\n",
       "\t1 & 2 & HA & 1011 & HS1376 & MH7755 & 5033 & 50141 & 2014-12-03 & 2014-12-04 & $\\dots$ \\\\\n",
       "\t2 & 3 & HA & 1019 & HS1516 & MH8439 & 5109 & 50468 & 2014-12-21 & 2014-12-21 & $\\dots$ \\\\\n",
       "\t3 & 6 & HA & 140 & HS1335 & MH7612 & 5073 & 50319 & 2014-11-25 & 2014-11-25 & $\\dots$ \\\\\n",
       "\t4 & 8 & HA & 1486 & HS1381 & MH7800 & 5204 & 50874 & 2014-12-05 & 2014-12-05 & $\\dots$ \\\\\n",
       "\t5 & 9 & HA & 1670 & HS1340 & MH7627 & 5048 & 50207 & 2014-11-30 & 2014-11-30 & $\\dots$ \\\\\n",
       "\t6 & 11 & HA & 236 & HS1376 & MH7755 & 5033 & 50141 & 2014-12-03 & 2014-12-04 & $\\dots$ \\\\\n",
       "\t7 & 14 & HA & 273 & HS1416 & MH7890 & 5070 & 50305 & 2014-12-05 & 2014-12-07 & $\\dots$ \\\\\n",
       "\t8 & 16 & HA & 418 & HS1595 & MH8925 & 5234 & 50993 & 2015-01-04 & 2015-01-06 & $\\dots$ \\\\\n",
       "\t9 & 17 & HA & 491 & HS1566 & MH8700 & 5039 & 50167 & 2014-12-27 & 2014-12-28 & $\\dots$ \\\\\n",
       "\t10 & 19 & HA & 524 & HS1390 & MH7852 & 5341 & 51438 & 2014-12-07 & 2014-12-07 & $\\dots$ \\\\\n",
       "\t11 & 22 & HA & 545 & HS1409 & MH7886 & 5126 & 50540 & 2014-12-06 & 2014-12-06 & $\\dots$ \\\\\n",
       "\t12 & 23 & HA & 638 & HS1390 & MH7852 & 5341 & 51438 & 2014-12-07 & 2014-12-07 & $\\dots$ \\\\\n",
       "\t13 & 26 & HA & 879 & HS1401 & MH7855 & 5228 & 50968 & 2014-12-06 & 2014-12-07 & $\\dots$ \\\\\n",
       "\t14 & 30 & HA & 995 & HS1256 & MH7391 & 5129 & 50553 & 2014-11-16 & 2014-11-16 & $\\dots$ \\\\\n",
       "\t15 & 31 & HA & 997 & HS1604 & MH9045 & 5034 & 50143 & 2015-01-11 & 2015-01-12 & $\\dots$ \\\\\n",
       "\t16 & 33 & M & 303 & HS1595 & MH8925 & 5234 & 50993 & 2015-01-04 & 2015-01-06 & $\\dots$ \\\\\n",
       "\t17 & 35 & M & 553 & HS1520 & MH8445 & 5250 & 51059 & 2014-12-22 & 2014-12-22 & $\\dots$ \\\\\n",
       "\t18 & 37 & NP & 1011 & HS1416 & MH7890 & 5070 & 50305 & 2014-12-05 & 2014-12-07 & $\\dots$ \\\\\n",
       "\t19 & 44 & NP & 1334 & HS1417 & MH7891 & 5078 & 50331 & 2014-12-09 & 2014-12-09 & $\\dots$ \\\\\n",
       "\t20 & 46 & NP & 207 & HS1336 & MH7611 & 5073 & 50318 & 2014-11-23 & 2014-11-23 & $\\dots$ \\\\\n",
       "\t21 & 51 & NP & 723 & HS1256 & MH7391 & 5129 & 50553 & 2014-11-16 & 2014-11-16 & $\\dots$ \\\\\n",
       "\t22 & 54 & NP & 912 & HS1579 & MH8766 & 5057 & 50246 & 2015-01-01 & 2015-01-01 & $\\dots$ \\\\\n",
       "\t23 & 55 & NP & 942 & HS1421 & MH7905 & 5245 & 51046 & 2014-12-08 & 2014-12-09 & $\\dots$ \\\\\n",
       "\t24 & 58 & NR & 1099 & HS1531 & MH8592 & 5098 & 50418 & 2014-12-27 & 2014-12-28 & $\\dots$ \\\\\n",
       "\t25 & 59 & NR & 168 & HS1408 & MH7884 & 5126 & 50538 & 2014-12-08 & 2014-12-06 & $\\dots$ \\\\\n",
       "\t26 & 61 & NR & 174 & HS1408 & MH7884 & 5126 & 50538 & 2014-12-08 & 2014-12-06 & $\\dots$ \\\\\n",
       "\t27 & 63 & NR & 204 & HS1408 & MH7884 & 5126 & 50538 & 2014-12-08 & 2014-12-06 & $\\dots$ \\\\\n",
       "\t28 & 65 & NR & 220 & HS1408 & MH7884 & 5126 & 50538 & 2014-12-08 & 2014-12-06 & $\\dots$ \\\\\n",
       "\t29 & 67 & NR & 221 & HS1408 & MH7884 & 5126 & 50538 & 2014-12-08 & 2014-12-06 & $\\dots$ \\\\\n",
       "\t30 & 69 & NR & 249 & HS1408 & MH7884 & 5126 & 50538 & 2014-12-08 & 2014-12-06 & $\\dots$ \\\\\n",
       "\t$\\dots$ & $\\dots$ & $\\dots$ & $\\dots$ & $\\dots$ & $\\dots$ & $\\dots$ & $\\dots$ & $\\dots$ & $\\dots$ &  \\\\\n",
       "\\end{tabular}\n"
      ],
      "text/plain": [
       "63×24 DataFrame. Omitted printing of 17 columns\n",
       "│ Row │ Column1 │ chr    │ pos   │ SPECID1 │ SPECID2 │ HOUSE_ID │ ENROLLID │\n",
       "│     │ \u001b[90mInt64\u001b[39m   │ \u001b[90mString\u001b[39m │ \u001b[90mInt64\u001b[39m │ \u001b[90mString\u001b[39m  │ \u001b[90mString\u001b[39m  │ \u001b[90mInt64\u001b[39m    │ \u001b[90mInt64\u001b[39m    │\n",
       "├─────┼─────────┼────────┼───────┼─────────┼─────────┼──────────┼──────────┤\n",
       "│ 1   │ 2       │ HA     │ 1011  │ HS1376  │ MH7755  │ 5033     │ 50141    │\n",
       "│ 2   │ 3       │ HA     │ 1019  │ HS1516  │ MH8439  │ 5109     │ 50468    │\n",
       "│ 3   │ 6       │ HA     │ 140   │ HS1335  │ MH7612  │ 5073     │ 50319    │\n",
       "│ 4   │ 8       │ HA     │ 1486  │ HS1381  │ MH7800  │ 5204     │ 50874    │\n",
       "│ 5   │ 9       │ HA     │ 1670  │ HS1340  │ MH7627  │ 5048     │ 50207    │\n",
       "│ 6   │ 11      │ HA     │ 236   │ HS1376  │ MH7755  │ 5033     │ 50141    │\n",
       "│ 7   │ 14      │ HA     │ 273   │ HS1416  │ MH7890  │ 5070     │ 50305    │\n",
       "│ 8   │ 16      │ HA     │ 418   │ HS1595  │ MH8925  │ 5234     │ 50993    │\n",
       "│ 9   │ 17      │ HA     │ 491   │ HS1566  │ MH8700  │ 5039     │ 50167    │\n",
       "│ 10  │ 19      │ HA     │ 524   │ HS1390  │ MH7852  │ 5341     │ 51438    │\n",
       "⋮\n",
       "│ 53  │ 132     │ PB1    │ 463   │ HS1427  │ MH7953  │ 5191     │ 50812    │\n",
       "│ 54  │ 133     │ PB1    │ 530   │ HS1381  │ MH7800  │ 5204     │ 50874    │\n",
       "│ 55  │ 136     │ PB1    │ 877   │ HS1336  │ MH7611  │ 5073     │ 50318    │\n",
       "│ 56  │ 137     │ PB1    │ 910   │ HS1505  │ MH8391  │ 5254     │ 51073    │\n",
       "│ 57  │ 140     │ PB1    │ 985   │ HS1336  │ MH7611  │ 5073     │ 50318    │\n",
       "│ 58  │ 141     │ PB2    │ 1085  │ HS1604  │ MH9045  │ 5034     │ 50143    │\n",
       "│ 59  │ 143     │ PB2    │ 1099  │ HS1563  │ MH8688  │ 5001     │ 50001    │\n",
       "│ 60  │ 145     │ PB2    │ 1099  │ HS1595  │ MH8925  │ 5234     │ 50993    │\n",
       "│ 61  │ 148     │ PB2    │ 1893  │ HS1340  │ MH7627  │ 5048     │ 50207    │\n",
       "│ 62  │ 153     │ PB2    │ 212   │ HS1381  │ MH7800  │ 5204     │ 50874    │\n",
       "│ 63  │ 160     │ PB2    │ 880   │ HS1335  │ MH7612  │ 5073     │ 50319    │"
      ]
     },
     "execution_count": 77,
     "metadata": {},
     "output_type": "execute_result"
    }
   ],
   "source": [
    "data=CSV.read(\"../data/processed/secondary/Intrahost_initially_present.csv\")\n",
    "minor = data[data[:freq1].<=0.5,:]\n",
    "minor = minor[minor[:within_host_time].>0,:]\n",
    "minor[:generations] = minor[:within_host_time]*4\n",
    "minor"
   ]
  },
  {
   "cell_type": "code",
   "execution_count": 78,
   "metadata": {},
   "outputs": [],
   "source": [
    "LL = zeros(100)\n",
    "#p = Progress(length(LL), 1)\n",
    "for N in 1:100\n",
    "    #println(N)\n",
    "    LL[N]= LogLike(minor,N)\n",
    "\n",
    "#    next!(p)\n",
    "end\n",
    "Nₑ=findall(x->x==maximum(LL), LL)[1]\n",
    "write_to_summary(\"Discrete model 6 Ne:\",Nₑ)\n"
   ]
  },
  {
   "cell_type": "code",
   "execution_count": 79,
   "metadata": {},
   "outputs": [
    {
     "data": {
      "text/plain": [
       "32"
      ]
     },
     "execution_count": 79,
     "metadata": {},
     "output_type": "execute_result"
    }
   ],
   "source": [
    "Nₑ"
   ]
  },
  {
   "cell_type": "code",
   "execution_count": 80,
   "metadata": {
    "scrolled": false
   },
   "outputs": [],
   "source": [
    "#plot(Nₑ-20:Nₑ+20,LL[Nₑ-20:Nₑ+20],ylim=[LL[Nₑ]-10,LL[Nₑ]+0.5])\n",
    "#plot(2:10,LL[2:10])"
   ]
  },
  {
   "cell_type": "markdown",
   "metadata": {},
   "source": [
    "The curve is not smooth because of the binomial nature of the initial model anand our PCR error spread affecting the likelihood of observing certain starting and ending frequencies. "
   ]
  },
  {
   "cell_type": "code",
   "execution_count": 81,
   "metadata": {},
   "outputs": [
    {
     "data": {
      "text/plain": [
       "\"28 - 41\""
      ]
     },
     "execution_count": 81,
     "metadata": {},
     "output_type": "execute_result"
    }
   ],
   "source": [
    "function CI_interval(LL,Nₑ)\n",
    "\n",
    "f(x)= x >(LL[Nₑ]-1.92)\n",
    "\n",
    "Ci = findall(f,LL)\n",
    "low = minimum(Ci)[1]\n",
    "high = maximum(Ci)[1]\n",
    "ci = \"$low - $high\"\n",
    "    return(ci)\n",
    "end\n",
    "\n",
    "ci = CI_interval(LL,Nₑ)\n",
    "write_to_summary(\"Discrete model 6 CI:\",ci)\n",
    "ci"
   ]
  },
  {
   "cell_type": "markdown",
   "metadata": {},
   "source": [
    "## Synonymous"
   ]
  },
  {
   "cell_type": "code",
   "execution_count": 82,
   "metadata": {},
   "outputs": [
    {
     "name": "stdout",
     "output_type": "stream",
     "text": [
      "37"
     ]
    },
    {
     "name": "stderr",
     "output_type": "stream",
     "text": [
      "┌ Warning: `getindex(df::DataFrame, col_ind::ColumnIndex)` is deprecated, use `df[!, col_ind]` instead.\n",
      "│   caller = top-level scope at In[82]:1\n",
      "└ @ Core In[82]:1\n"
     ]
    }
   ],
   "source": [
    "S = minor[minor[:donor_class].==\"Synonymous\",:]\n",
    "LL = zeros(100)\n",
    "#p = Progress(length(LL), 1)\n",
    "for N in 1:100\n",
    "    #println(N)\n",
    "    LL[N]= LogLike(S,N)\n",
    "#    next!(p)\n",
    "end\n",
    "Nₑ=findall(x->x==maximum(LL), LL)[1]\n",
    "print(Nₑ)\n",
    "write_to_summary(\"S Ne:\",Nₑ)"
   ]
  },
  {
   "cell_type": "code",
   "execution_count": 83,
   "metadata": {},
   "outputs": [],
   "source": [
    "ci = CI_interval(LL,Nₑ)\n",
    "write_to_summary(\"S CI:\" ,ci)"
   ]
  },
  {
   "cell_type": "code",
   "execution_count": 84,
   "metadata": {},
   "outputs": [],
   "source": [
    "#plot(Nₑ-20:Nₑ+20,LL[Nₑ-20:Nₑ+20],ylim=[LL[Nₑ]-20,LL[Nₑ]+0.5])\n"
   ]
  },
  {
   "cell_type": "code",
   "execution_count": 85,
   "metadata": {},
   "outputs": [
    {
     "name": "stdout",
     "output_type": "stream",
     "text": [
      "36"
     ]
    }
   ],
   "source": [
    "print(nrow(S))\n",
    "synom_n = nrow(S)\n",
    "write_to_summary(\"S iSNV n:\",synom_n)"
   ]
  },
  {
   "cell_type": "markdown",
   "metadata": {},
   "source": [
    "## Nonsynonymous"
   ]
  },
  {
   "cell_type": "code",
   "execution_count": 86,
   "metadata": {},
   "outputs": [
    {
     "name": "stderr",
     "output_type": "stream",
     "text": [
      "┌ Warning: `getindex(df::DataFrame, col_ind::ColumnIndex)` is deprecated, use `df[!, col_ind]` instead.\n",
      "│   caller = top-level scope at In[86]:1\n",
      "└ @ Core In[86]:1\n"
     ]
    },
    {
     "data": {
      "text/plain": [
       "30"
      ]
     },
     "execution_count": 86,
     "metadata": {},
     "output_type": "execute_result"
    }
   ],
   "source": [
    "NS = minor[minor[:donor_class].==\"Nonsynonymous\",:]\n",
    "LL = zeros(100)\n",
    "#p = Progress(length(LL), 1)\n",
    "for N in 1:100\n",
    "    #println(N)\n",
    "    LL[N]= LogLike(NS,N)\n",
    "#    next!(p)\n",
    "end\n",
    "Nₑ=findall(x->x==maximum(LL), LL)[1]\n",
    "write_to_summary(\"NS Ne:\",Nₑ)\n",
    "Nₑ"
   ]
  },
  {
   "cell_type": "code",
   "execution_count": 87,
   "metadata": {},
   "outputs": [
    {
     "data": {
      "text/plain": [
       "\"21 - 40\""
      ]
     },
     "execution_count": 87,
     "metadata": {},
     "output_type": "execute_result"
    }
   ],
   "source": [
    "ci = CI_interval(LL,Nₑ)\n",
    "write_to_summary(\"NS CI:\" ,ci)\n",
    "ci"
   ]
  },
  {
   "cell_type": "code",
   "execution_count": 88,
   "metadata": {},
   "outputs": [],
   "source": [
    "#plot(Nₑ-20:Nₑ+20,LL[Nₑ-20:Nₑ+20],ylim=[LL[Nₑ]-10,LL[Nₑ]+0.5])\n",
    "\n"
   ]
  },
  {
   "cell_type": "code",
   "execution_count": 89,
   "metadata": {},
   "outputs": [
    {
     "name": "stdout",
     "output_type": "stream",
     "text": [
      "27"
     ]
    }
   ],
   "source": [
    "print(nrow(NS))\n",
    "nonsynom_n = nrow(NS)\n",
    "write_to_summary(\"NS iSNV n:\",nonsynom_n)"
   ]
  },
  {
   "cell_type": "markdown",
   "metadata": {},
   "source": [
    "## Randomly choose 1 iSNV / person"
   ]
  },
  {
   "cell_type": "code",
   "execution_count": 50,
   "metadata": {},
   "outputs": [
    {
     "data": {
      "text/plain": [
       "sub_df (generic function with 1 method)"
      ]
     },
     "execution_count": 50,
     "metadata": {},
     "output_type": "execute_result"
    }
   ],
   "source": [
    "function sub_df(df)\n",
    "    rows=nrow(df)\n",
    "    pick = rand(1:rows)\n",
    "    return(df[pick,:])\n",
    "end\n",
    "\n"
   ]
  },
  {
   "cell_type": "markdown",
   "metadata": {},
   "source": [
    "This is a test that the sub_df function works. "
   ]
  },
  {
   "cell_type": "code",
   "execution_count": 51,
   "metadata": {},
   "outputs": [
    {
     "name": "stderr",
     "output_type": "stream",
     "text": [
      "┌ Warning: `by(d::AbstractDataFrame, cols::Any, f::Base.Callable; sort::Bool=false, skipmissing::Bool=false)` is deprecated, use `combine(f, groupby(d, cols, sort=sort, skipmissing=skipmissing))` instead.\n",
      "│   caller = top-level scope at In[51]:1\n",
      "└ @ Core In[51]:1\n",
      "┌ Warning: `getindex(df::DataFrame, col_ind::ColumnIndex)` is deprecated, use `df[!, col_ind]` instead.\n",
      "│   caller = top-level scope at In[51]:2\n",
      "└ @ Core In[51]:2\n"
     ]
    },
    {
     "data": {
      "text/plain": [
       "true"
      ]
     },
     "execution_count": 51,
     "metadata": {},
     "output_type": "execute_result"
    }
   ],
   "source": [
    "set = by(minor,:ENROLLID, d-> sub_df(d))\n",
    "nrow(set)==length(unique(minor[:ENROLLID]))"
   ]
  },
  {
   "cell_type": "code",
   "execution_count": 52,
   "metadata": {},
   "outputs": [
    {
     "name": "stderr",
     "output_type": "stream",
     "text": [
      "┌ Warning: `by(d::AbstractDataFrame, cols::Any, f::Base.Callable; sort::Bool=false, skipmissing::Bool=false)` is deprecated, use `combine(f, groupby(d, cols, sort=sort, skipmissing=skipmissing))` instead.\n",
      "│   caller = top-level scope at In[52]:7\n",
      "└ @ Core In[52]:7\n",
      "┌ Warning: `getindex(df::DataFrame, col_ind::ColumnIndex)` is deprecated, use `df[!, col_ind]` instead.\n",
      "│   caller = LogLike(::DataFrame, ::Int64) at Slatkin_functions.jl:103\n",
      "└ @ Main ~/Documents/projects/wip/IAV_within-host_Ne/scripts/Slatkin_functions.jl:103\n",
      "┌ Warning: `getindex(df::DataFrame, col_ind::ColumnIndex)` is deprecated, use `df[!, col_ind]` instead.\n",
      "│   caller = LogLike(::DataFrame, ::Int64) at Slatkin_functions.jl:103\n",
      "└ @ Main ~/Documents/projects/wip/IAV_within-host_Ne/scripts/Slatkin_functions.jl:103\n",
      "┌ Warning: `getindex(df::DataFrame, col_ind::ColumnIndex)` is deprecated, use `df[!, col_ind]` instead.\n",
      "│   caller = LogLike(::DataFrame, ::Int64) at Slatkin_functions.jl:103\n",
      "└ @ Main ~/Documents/projects/wip/IAV_within-host_Ne/scripts/Slatkin_functions.jl:103\n",
      "┌ Warning: `getindex(df::DataFrame, col_ind::ColumnIndex)` is deprecated, use `df[!, col_ind]` instead.\n",
      "│   caller = LogLike(::DataFrame, ::Int64) at Slatkin_functions.jl:103\n",
      "└ @ Main ~/Documents/projects/wip/IAV_within-host_Ne/scripts/Slatkin_functions.jl:103\n",
      "┌ Warning: `getindex(df::DataFrame, col_ind::ColumnIndex)` is deprecated, use `df[!, col_ind]` instead.\n",
      "│   caller = LogLike(::DataFrame, ::Int64) at Slatkin_functions.jl:103\n",
      "└ @ Main ~/Documents/projects/wip/IAV_within-host_Ne/scripts/Slatkin_functions.jl:103\n",
      "┌ Warning: `getindex(df::DataFrame, col_ind::ColumnIndex)` is deprecated, use `df[!, col_ind]` instead.\n",
      "│   caller = LogLike(::DataFrame, ::Int64) at Slatkin_functions.jl:103\n",
      "└ @ Main ~/Documents/projects/wip/IAV_within-host_Ne/scripts/Slatkin_functions.jl:103\n",
      "┌ Warning: `getindex(df::DataFrame, col_ind::ColumnIndex)` is deprecated, use `df[!, col_ind]` instead.\n",
      "│   caller = LogLike(::DataFrame, ::Int64) at Slatkin_functions.jl:103\n",
      "└ @ Main ~/Documents/projects/wip/IAV_within-host_Ne/scripts/Slatkin_functions.jl:103\n",
      "┌ Warning: `getindex(df::DataFrame, col_ind::ColumnIndex)` is deprecated, use `df[!, col_ind]` instead.\n",
      "│   caller = LogLike(::DataFrame, ::Int64) at Slatkin_functions.jl:103\n",
      "└ @ Main ~/Documents/projects/wip/IAV_within-host_Ne/scripts/Slatkin_functions.jl:103\n",
      "┌ Warning: `getindex(df::DataFrame, col_ind::ColumnIndex)` is deprecated, use `df[!, col_ind]` instead.\n",
      "│   caller = LogLike(::DataFrame, ::Int64) at Slatkin_functions.jl:103\n",
      "└ @ Main ~/Documents/projects/wip/IAV_within-host_Ne/scripts/Slatkin_functions.jl:103\n",
      "┌ Warning: `getindex(df::DataFrame, col_ind::ColumnIndex)` is deprecated, use `df[!, col_ind]` instead.\n",
      "│   caller = LogLike(::DataFrame, ::Int64) at Slatkin_functions.jl:103\n",
      "└ @ Main ~/Documents/projects/wip/IAV_within-host_Ne/scripts/Slatkin_functions.jl:103\n",
      "┌ Warning: `getindex(df::DataFrame, col_ind::ColumnIndex)` is deprecated, use `df[!, col_ind]` instead.\n",
      "│   caller = LogLike(::DataFrame, ::Int64) at Slatkin_functions.jl:103\n",
      "└ @ Main ~/Documents/projects/wip/IAV_within-host_Ne/scripts/Slatkin_functions.jl:103\n",
      "┌ Warning: `getindex(df::DataFrame, col_ind::ColumnIndex)` is deprecated, use `df[!, col_ind]` instead.\n",
      "│   caller = LogLike(::DataFrame, ::Int64) at Slatkin_functions.jl:103\n",
      "└ @ Main ~/Documents/projects/wip/IAV_within-host_Ne/scripts/Slatkin_functions.jl:103\n",
      "┌ Warning: `getindex(df::DataFrame, col_ind::ColumnIndex)` is deprecated, use `df[!, col_ind]` instead.\n",
      "│   caller = LogLike(::DataFrame, ::Int64) at Slatkin_functions.jl:103\n",
      "└ @ Main ~/Documents/projects/wip/IAV_within-host_Ne/scripts/Slatkin_functions.jl:103\n",
      "┌ Warning: `getindex(df::DataFrame, col_ind::ColumnIndex)` is deprecated, use `df[!, col_ind]` instead.\n",
      "│   caller = LogLike(::DataFrame, ::Int64) at Slatkin_functions.jl:103\n",
      "└ @ Main ~/Documents/projects/wip/IAV_within-host_Ne/scripts/Slatkin_functions.jl:103\n",
      "┌ Warning: `getindex(df::DataFrame, col_ind::ColumnIndex)` is deprecated, use `df[!, col_ind]` instead.\n",
      "│   caller = LogLike(::DataFrame, ::Int64) at Slatkin_functions.jl:103\n",
      "└ @ Main ~/Documents/projects/wip/IAV_within-host_Ne/scripts/Slatkin_functions.jl:103\n",
      "┌ Warning: `getindex(df::DataFrame, col_ind::ColumnIndex)` is deprecated, use `df[!, col_ind]` instead.\n",
      "│   caller = LogLike(::DataFrame, ::Int64) at Slatkin_functions.jl:103\n",
      "└ @ Main ~/Documents/projects/wip/IAV_within-host_Ne/scripts/Slatkin_functions.jl:103\n",
      "┌ Warning: `getindex(df::DataFrame, col_ind::ColumnIndex)` is deprecated, use `df[!, col_ind]` instead.\n",
      "│   caller = LogLike(::DataFrame, ::Int64) at Slatkin_functions.jl:103\n",
      "└ @ Main ~/Documents/projects/wip/IAV_within-host_Ne/scripts/Slatkin_functions.jl:103\n",
      "┌ Warning: `getindex(df::DataFrame, col_ind::ColumnIndex)` is deprecated, use `df[!, col_ind]` instead.\n",
      "│   caller = LogLike(::DataFrame, ::Int64) at Slatkin_functions.jl:103\n",
      "└ @ Main ~/Documents/projects/wip/IAV_within-host_Ne/scripts/Slatkin_functions.jl:103\n",
      "┌ Warning: `getindex(df::DataFrame, col_ind::ColumnIndex)` is deprecated, use `df[!, col_ind]` instead.\n",
      "│   caller = LogLike(::DataFrame, ::Int64) at Slatkin_functions.jl:103\n",
      "└ @ Main ~/Documents/projects/wip/IAV_within-host_Ne/scripts/Slatkin_functions.jl:103\n",
      "┌ Warning: `getindex(df::DataFrame, col_ind::ColumnIndex)` is deprecated, use `df[!, col_ind]` instead.\n",
      "│   caller = LogLike(::DataFrame, ::Int64) at Slatkin_functions.jl:103\n",
      "└ @ Main ~/Documents/projects/wip/IAV_within-host_Ne/scripts/Slatkin_functions.jl:103\n",
      "┌ Warning: `getindex(df::DataFrame, col_ind::ColumnIndex)` is deprecated, use `df[!, col_ind]` instead.\n",
      "│   caller = LogLike(::DataFrame, ::Int64) at Slatkin_functions.jl:103\n",
      "└ @ Main ~/Documents/projects/wip/IAV_within-host_Ne/scripts/Slatkin_functions.jl:103\n",
      "┌ Warning: `getindex(df::DataFrame, col_ind::ColumnIndex)` is deprecated, use `df[!, col_ind]` instead.\n",
      "│   caller = LogLike(::DataFrame, ::Int64) at Slatkin_functions.jl:103\n",
      "└ @ Main ~/Documents/projects/wip/IAV_within-host_Ne/scripts/Slatkin_functions.jl:103\n",
      "┌ Warning: `getindex(df::DataFrame, col_ind::ColumnIndex)` is deprecated, use `df[!, col_ind]` instead.\n",
      "│   caller = LogLike(::DataFrame, ::Int64) at Slatkin_functions.jl:103\n",
      "└ @ Main ~/Documents/projects/wip/IAV_within-host_Ne/scripts/Slatkin_functions.jl:103\n",
      "┌ Warning: `getindex(df::DataFrame, col_ind::ColumnIndex)` is deprecated, use `df[!, col_ind]` instead.\n",
      "│   caller = LogLike(::DataFrame, ::Int64) at Slatkin_functions.jl:103\n",
      "└ @ Main ~/Documents/projects/wip/IAV_within-host_Ne/scripts/Slatkin_functions.jl:103\n",
      "┌ Warning: `getindex(df::DataFrame, col_ind::ColumnIndex)` is deprecated, use `df[!, col_ind]` instead.\n",
      "│   caller = LogLike(::DataFrame, ::Int64) at Slatkin_functions.jl:103\n",
      "└ @ Main ~/Documents/projects/wip/IAV_within-host_Ne/scripts/Slatkin_functions.jl:103\n",
      "┌ Warning: `getindex(df::DataFrame, col_ind::ColumnIndex)` is deprecated, use `df[!, col_ind]` instead.\n",
      "│   caller = LogLike(::DataFrame, ::Int64) at Slatkin_functions.jl:103\n",
      "└ @ Main ~/Documents/projects/wip/IAV_within-host_Ne/scripts/Slatkin_functions.jl:103\n",
      "┌ Warning: `getindex(df::DataFrame, col_ind::ColumnIndex)` is deprecated, use `df[!, col_ind]` instead.\n",
      "│   caller = LogLike(::DataFrame, ::Int64) at Slatkin_functions.jl:103\n",
      "└ @ Main ~/Documents/projects/wip/IAV_within-host_Ne/scripts/Slatkin_functions.jl:103\n",
      "┌ Warning: `getindex(df::DataFrame, col_ind::ColumnIndex)` is deprecated, use `df[!, col_ind]` instead.\n",
      "│   caller = LogLike(::DataFrame, ::Int64) at Slatkin_functions.jl:103\n",
      "└ @ Main ~/Documents/projects/wip/IAV_within-host_Ne/scripts/Slatkin_functions.jl:103\n",
      "┌ Warning: `getindex(df::DataFrame, col_ind::ColumnIndex)` is deprecated, use `df[!, col_ind]` instead.\n",
      "│   caller = LogLike(::DataFrame, ::Int64) at Slatkin_functions.jl:103\n",
      "└ @ Main ~/Documents/projects/wip/IAV_within-host_Ne/scripts/Slatkin_functions.jl:103\n",
      "┌ Warning: `getindex(df::DataFrame, col_ind::ColumnIndex)` is deprecated, use `df[!, col_ind]` instead.\n",
      "│   caller = LogLike(::DataFrame, ::Int64) at Slatkin_functions.jl:103\n",
      "└ @ Main ~/Documents/projects/wip/IAV_within-host_Ne/scripts/Slatkin_functions.jl:103\n",
      "┌ Warning: `getindex(df::DataFrame, col_ind::ColumnIndex)` is deprecated, use `df[!, col_ind]` instead.\n",
      "│   caller = LogLike(::DataFrame, ::Int64) at Slatkin_functions.jl:103\n",
      "└ @ Main ~/Documents/projects/wip/IAV_within-host_Ne/scripts/Slatkin_functions.jl:103\n",
      "┌ Warning: `getindex(df::DataFrame, col_ind::ColumnIndex)` is deprecated, use `df[!, col_ind]` instead.\n",
      "│   caller = LogLike(::DataFrame, ::Int64) at Slatkin_functions.jl:103\n",
      "└ @ Main ~/Documents/projects/wip/IAV_within-host_Ne/scripts/Slatkin_functions.jl:103\n",
      "┌ Warning: `getindex(df::DataFrame, col_ind::ColumnIndex)` is deprecated, use `df[!, col_ind]` instead.\n",
      "│   caller = LogLike(::DataFrame, ::Int64) at Slatkin_functions.jl:103\n",
      "└ @ Main ~/Documents/projects/wip/IAV_within-host_Ne/scripts/Slatkin_functions.jl:103\n",
      "┌ Warning: `getindex(df::DataFrame, col_ind::ColumnIndex)` is deprecated, use `df[!, col_ind]` instead.\n",
      "│   caller = LogLike(::DataFrame, ::Int64) at Slatkin_functions.jl:103\n",
      "└ @ Main ~/Documents/projects/wip/IAV_within-host_Ne/scripts/Slatkin_functions.jl:103\n",
      "┌ Warning: `getindex(df::DataFrame, col_ind::ColumnIndex)` is deprecated, use `df[!, col_ind]` instead.\n",
      "│   caller = LogLike(::DataFrame, ::Int64) at Slatkin_functions.jl:103\n",
      "└ @ Main ~/Documents/projects/wip/IAV_within-host_Ne/scripts/Slatkin_functions.jl:103\n",
      "┌ Warning: `getindex(df::DataFrame, col_ind::ColumnIndex)` is deprecated, use `df[!, col_ind]` instead.\n",
      "│   caller = LogLike(::DataFrame, ::Int64) at Slatkin_functions.jl:103\n",
      "└ @ Main ~/Documents/projects/wip/IAV_within-host_Ne/scripts/Slatkin_functions.jl:103\n",
      "┌ Warning: `getindex(df::DataFrame, col_ind::ColumnIndex)` is deprecated, use `df[!, col_ind]` instead.\n",
      "│   caller = LogLike(::DataFrame, ::Int64) at Slatkin_functions.jl:103\n",
      "└ @ Main ~/Documents/projects/wip/IAV_within-host_Ne/scripts/Slatkin_functions.jl:103\n",
      "┌ Warning: `getindex(df::DataFrame, col_ind::ColumnIndex)` is deprecated, use `df[!, col_ind]` instead.\n",
      "│   caller = LogLike(::DataFrame, ::Int64) at Slatkin_functions.jl:103\n",
      "└ @ Main ~/Documents/projects/wip/IAV_within-host_Ne/scripts/Slatkin_functions.jl:103\n",
      "┌ Warning: `getindex(df::DataFrame, col_ind::ColumnIndex)` is deprecated, use `df[!, col_ind]` instead.\n",
      "│   caller = LogLike(::DataFrame, ::Int64) at Slatkin_functions.jl:103\n",
      "└ @ Main ~/Documents/projects/wip/IAV_within-host_Ne/scripts/Slatkin_functions.jl:103\n"
     ]
    },
    {
     "name": "stderr",
     "output_type": "stream",
     "text": [
      "┌ Warning: `getindex(df::DataFrame, col_ind::ColumnIndex)` is deprecated, use `df[!, col_ind]` instead.\n",
      "│   caller = LogLike(::DataFrame, ::Int64) at Slatkin_functions.jl:103\n",
      "└ @ Main ~/Documents/projects/wip/IAV_within-host_Ne/scripts/Slatkin_functions.jl:103\n",
      "┌ Warning: `getindex(df::DataFrame, col_ind::ColumnIndex)` is deprecated, use `df[!, col_ind]` instead.\n",
      "│   caller = LogLike(::DataFrame, ::Int64) at Slatkin_functions.jl:103\n",
      "└ @ Main ~/Documents/projects/wip/IAV_within-host_Ne/scripts/Slatkin_functions.jl:103\n",
      "┌ Warning: `getindex(df::DataFrame, col_ind::ColumnIndex)` is deprecated, use `df[!, col_ind]` instead.\n",
      "│   caller = LogLike(::DataFrame, ::Int64) at Slatkin_functions.jl:103\n",
      "└ @ Main ~/Documents/projects/wip/IAV_within-host_Ne/scripts/Slatkin_functions.jl:103\n",
      "┌ Warning: `getindex(df::DataFrame, col_ind::ColumnIndex)` is deprecated, use `df[!, col_ind]` instead.\n",
      "│   caller = LogLike(::DataFrame, ::Int64) at Slatkin_functions.jl:103\n",
      "└ @ Main ~/Documents/projects/wip/IAV_within-host_Ne/scripts/Slatkin_functions.jl:103\n",
      "┌ Warning: `getindex(df::DataFrame, col_ind::ColumnIndex)` is deprecated, use `df[!, col_ind]` instead.\n",
      "│   caller = LogLike(::DataFrame, ::Int64) at Slatkin_functions.jl:103\n",
      "└ @ Main ~/Documents/projects/wip/IAV_within-host_Ne/scripts/Slatkin_functions.jl:103\n",
      "┌ Warning: `getindex(df::DataFrame, col_ind::ColumnIndex)` is deprecated, use `df[!, col_ind]` instead.\n",
      "│   caller = LogLike(::DataFrame, ::Int64) at Slatkin_functions.jl:103\n",
      "└ @ Main ~/Documents/projects/wip/IAV_within-host_Ne/scripts/Slatkin_functions.jl:103\n",
      "┌ Warning: `getindex(df::DataFrame, col_ind::ColumnIndex)` is deprecated, use `df[!, col_ind]` instead.\n",
      "│   caller = LogLike(::DataFrame, ::Int64) at Slatkin_functions.jl:103\n",
      "└ @ Main ~/Documents/projects/wip/IAV_within-host_Ne/scripts/Slatkin_functions.jl:103\n",
      "┌ Warning: `getindex(df::DataFrame, col_ind::ColumnIndex)` is deprecated, use `df[!, col_ind]` instead.\n",
      "│   caller = LogLike(::DataFrame, ::Int64) at Slatkin_functions.jl:103\n",
      "└ @ Main ~/Documents/projects/wip/IAV_within-host_Ne/scripts/Slatkin_functions.jl:103\n",
      "┌ Warning: `getindex(df::DataFrame, col_ind::ColumnIndex)` is deprecated, use `df[!, col_ind]` instead.\n",
      "│   caller = LogLike(::DataFrame, ::Int64) at Slatkin_functions.jl:103\n",
      "└ @ Main ~/Documents/projects/wip/IAV_within-host_Ne/scripts/Slatkin_functions.jl:103\n",
      "┌ Warning: `getindex(df::DataFrame, col_ind::ColumnIndex)` is deprecated, use `df[!, col_ind]` instead.\n",
      "│   caller = LogLike(::DataFrame, ::Int64) at Slatkin_functions.jl:103\n",
      "└ @ Main ~/Documents/projects/wip/IAV_within-host_Ne/scripts/Slatkin_functions.jl:103\n",
      "┌ Warning: `getindex(df::DataFrame, col_ind::ColumnIndex)` is deprecated, use `df[!, col_ind]` instead.\n",
      "│   caller = LogLike(::DataFrame, ::Int64) at Slatkin_functions.jl:103\n",
      "└ @ Main ~/Documents/projects/wip/IAV_within-host_Ne/scripts/Slatkin_functions.jl:103\n",
      "┌ Warning: `getindex(df::DataFrame, col_ind::ColumnIndex)` is deprecated, use `df[!, col_ind]` instead.\n",
      "│   caller = LogLike(::DataFrame, ::Int64) at Slatkin_functions.jl:103\n",
      "└ @ Main ~/Documents/projects/wip/IAV_within-host_Ne/scripts/Slatkin_functions.jl:103\n",
      "┌ Warning: `getindex(df::DataFrame, col_ind::ColumnIndex)` is deprecated, use `df[!, col_ind]` instead.\n",
      "│   caller = LogLike(::DataFrame, ::Int64) at Slatkin_functions.jl:103\n",
      "└ @ Main ~/Documents/projects/wip/IAV_within-host_Ne/scripts/Slatkin_functions.jl:103\n",
      "┌ Warning: `getindex(df::DataFrame, col_ind::ColumnIndex)` is deprecated, use `df[!, col_ind]` instead.\n",
      "│   caller = LogLike(::DataFrame, ::Int64) at Slatkin_functions.jl:103\n",
      "└ @ Main ~/Documents/projects/wip/IAV_within-host_Ne/scripts/Slatkin_functions.jl:103\n",
      "┌ Warning: `getindex(df::DataFrame, col_ind::ColumnIndex)` is deprecated, use `df[!, col_ind]` instead.\n",
      "│   caller = LogLike(::DataFrame, ::Int64) at Slatkin_functions.jl:103\n",
      "└ @ Main ~/Documents/projects/wip/IAV_within-host_Ne/scripts/Slatkin_functions.jl:103\n",
      "┌ Warning: `getindex(df::DataFrame, col_ind::ColumnIndex)` is deprecated, use `df[!, col_ind]` instead.\n",
      "│   caller = LogLike(::DataFrame, ::Int64) at Slatkin_functions.jl:103\n",
      "└ @ Main ~/Documents/projects/wip/IAV_within-host_Ne/scripts/Slatkin_functions.jl:103\n",
      "┌ Warning: `getindex(df::DataFrame, col_ind::ColumnIndex)` is deprecated, use `df[!, col_ind]` instead.\n",
      "│   caller = LogLike(::DataFrame, ::Int64) at Slatkin_functions.jl:103\n",
      "└ @ Main ~/Documents/projects/wip/IAV_within-host_Ne/scripts/Slatkin_functions.jl:103\n",
      "┌ Warning: `getindex(df::DataFrame, col_ind::ColumnIndex)` is deprecated, use `df[!, col_ind]` instead.\n",
      "│   caller = LogLike(::DataFrame, ::Int64) at Slatkin_functions.jl:103\n",
      "└ @ Main ~/Documents/projects/wip/IAV_within-host_Ne/scripts/Slatkin_functions.jl:103\n",
      "┌ Warning: `getindex(df::DataFrame, col_ind::ColumnIndex)` is deprecated, use `df[!, col_ind]` instead.\n",
      "│   caller = LogLike(::DataFrame, ::Int64) at Slatkin_functions.jl:103\n",
      "└ @ Main ~/Documents/projects/wip/IAV_within-host_Ne/scripts/Slatkin_functions.jl:103\n",
      "┌ Warning: `getindex(df::DataFrame, col_ind::ColumnIndex)` is deprecated, use `df[!, col_ind]` instead.\n",
      "│   caller = LogLike(::DataFrame, ::Int64) at Slatkin_functions.jl:103\n",
      "└ @ Main ~/Documents/projects/wip/IAV_within-host_Ne/scripts/Slatkin_functions.jl:103\n",
      "┌ Warning: `getindex(df::DataFrame, col_ind::ColumnIndex)` is deprecated, use `df[!, col_ind]` instead.\n",
      "│   caller = LogLike(::DataFrame, ::Int64) at Slatkin_functions.jl:103\n",
      "└ @ Main ~/Documents/projects/wip/IAV_within-host_Ne/scripts/Slatkin_functions.jl:103\n",
      "┌ Warning: `getindex(df::DataFrame, col_ind::ColumnIndex)` is deprecated, use `df[!, col_ind]` instead.\n",
      "│   caller = LogLike(::DataFrame, ::Int64) at Slatkin_functions.jl:103\n",
      "└ @ Main ~/Documents/projects/wip/IAV_within-host_Ne/scripts/Slatkin_functions.jl:103\n",
      "┌ Warning: `getindex(df::DataFrame, col_ind::ColumnIndex)` is deprecated, use `df[!, col_ind]` instead.\n",
      "│   caller = LogLike(::DataFrame, ::Int64) at Slatkin_functions.jl:103\n",
      "└ @ Main ~/Documents/projects/wip/IAV_within-host_Ne/scripts/Slatkin_functions.jl:103\n",
      "┌ Warning: `getindex(df::DataFrame, col_ind::ColumnIndex)` is deprecated, use `df[!, col_ind]` instead.\n",
      "│   caller = LogLike(::DataFrame, ::Int64) at Slatkin_functions.jl:103\n",
      "└ @ Main ~/Documents/projects/wip/IAV_within-host_Ne/scripts/Slatkin_functions.jl:103\n",
      "┌ Warning: `getindex(df::DataFrame, col_ind::ColumnIndex)` is deprecated, use `df[!, col_ind]` instead.\n",
      "│   caller = LogLike(::DataFrame, ::Int64) at Slatkin_functions.jl:103\n",
      "└ @ Main ~/Documents/projects/wip/IAV_within-host_Ne/scripts/Slatkin_functions.jl:103\n",
      "┌ Warning: `getindex(df::DataFrame, col_ind::ColumnIndex)` is deprecated, use `df[!, col_ind]` instead.\n",
      "│   caller = LogLike(::DataFrame, ::Int64) at Slatkin_functions.jl:103\n",
      "└ @ Main ~/Documents/projects/wip/IAV_within-host_Ne/scripts/Slatkin_functions.jl:103\n",
      "┌ Warning: `getindex(df::DataFrame, col_ind::ColumnIndex)` is deprecated, use `df[!, col_ind]` instead.\n",
      "│   caller = LogLike(::DataFrame, ::Int64) at Slatkin_functions.jl:103\n",
      "└ @ Main ~/Documents/projects/wip/IAV_within-host_Ne/scripts/Slatkin_functions.jl:103\n",
      "┌ Warning: `getindex(df::DataFrame, col_ind::ColumnIndex)` is deprecated, use `df[!, col_ind]` instead.\n",
      "│   caller = LogLike(::DataFrame, ::Int64) at Slatkin_functions.jl:103\n",
      "└ @ Main ~/Documents/projects/wip/IAV_within-host_Ne/scripts/Slatkin_functions.jl:103\n",
      "┌ Warning: `getindex(df::DataFrame, col_ind::ColumnIndex)` is deprecated, use `df[!, col_ind]` instead.\n",
      "│   caller = LogLike(::DataFrame, ::Int64) at Slatkin_functions.jl:103\n",
      "└ @ Main ~/Documents/projects/wip/IAV_within-host_Ne/scripts/Slatkin_functions.jl:103\n",
      "┌ Warning: `getindex(df::DataFrame, col_ind::ColumnIndex)` is deprecated, use `df[!, col_ind]` instead.\n",
      "│   caller = LogLike(::DataFrame, ::Int64) at Slatkin_functions.jl:103\n",
      "└ @ Main ~/Documents/projects/wip/IAV_within-host_Ne/scripts/Slatkin_functions.jl:103\n",
      "┌ Warning: `getindex(df::DataFrame, col_ind::ColumnIndex)` is deprecated, use `df[!, col_ind]` instead.\n",
      "│   caller = LogLike(::DataFrame, ::Int64) at Slatkin_functions.jl:103\n",
      "└ @ Main ~/Documents/projects/wip/IAV_within-host_Ne/scripts/Slatkin_functions.jl:103\n",
      "┌ Warning: `getindex(df::DataFrame, col_ind::ColumnIndex)` is deprecated, use `df[!, col_ind]` instead.\n",
      "│   caller = LogLike(::DataFrame, ::Int64) at Slatkin_functions.jl:103\n",
      "└ @ Main ~/Documents/projects/wip/IAV_within-host_Ne/scripts/Slatkin_functions.jl:103\n",
      "┌ Warning: `getindex(df::DataFrame, col_ind::ColumnIndex)` is deprecated, use `df[!, col_ind]` instead.\n",
      "│   caller = LogLike(::DataFrame, ::Int64) at Slatkin_functions.jl:103\n",
      "└ @ Main ~/Documents/projects/wip/IAV_within-host_Ne/scripts/Slatkin_functions.jl:103\n",
      "┌ Warning: `getindex(df::DataFrame, col_ind::ColumnIndex)` is deprecated, use `df[!, col_ind]` instead.\n",
      "│   caller = LogLike(::DataFrame, ::Int64) at Slatkin_functions.jl:103\n",
      "└ @ Main ~/Documents/projects/wip/IAV_within-host_Ne/scripts/Slatkin_functions.jl:103\n",
      "┌ Warning: `getindex(df::DataFrame, col_ind::ColumnIndex)` is deprecated, use `df[!, col_ind]` instead.\n",
      "│   caller = LogLike(::DataFrame, ::Int64) at Slatkin_functions.jl:103\n",
      "└ @ Main ~/Documents/projects/wip/IAV_within-host_Ne/scripts/Slatkin_functions.jl:103\n",
      "┌ Warning: `getindex(df::DataFrame, col_ind::ColumnIndex)` is deprecated, use `df[!, col_ind]` instead.\n",
      "│   caller = LogLike(::DataFrame, ::Int64) at Slatkin_functions.jl:103\n",
      "└ @ Main ~/Documents/projects/wip/IAV_within-host_Ne/scripts/Slatkin_functions.jl:103\n",
      "┌ Warning: `getindex(df::DataFrame, col_ind::ColumnIndex)` is deprecated, use `df[!, col_ind]` instead.\n",
      "│   caller = LogLike(::DataFrame, ::Int64) at Slatkin_functions.jl:103\n",
      "└ @ Main ~/Documents/projects/wip/IAV_within-host_Ne/scripts/Slatkin_functions.jl:103\n",
      "┌ Warning: `getindex(df::DataFrame, col_ind::ColumnIndex)` is deprecated, use `df[!, col_ind]` instead.\n",
      "│   caller = LogLike(::DataFrame, ::Int64) at Slatkin_functions.jl:103\n",
      "└ @ Main ~/Documents/projects/wip/IAV_within-host_Ne/scripts/Slatkin_functions.jl:103\n",
      "┌ Warning: `getindex(df::DataFrame, col_ind::ColumnIndex)` is deprecated, use `df[!, col_ind]` instead.\n",
      "│   caller = LogLike(::DataFrame, ::Int64) at Slatkin_functions.jl:103\n",
      "└ @ Main ~/Documents/projects/wip/IAV_within-host_Ne/scripts/Slatkin_functions.jl:103\n"
     ]
    },
    {
     "name": "stderr",
     "output_type": "stream",
     "text": [
      "┌ Warning: `getindex(df::DataFrame, col_ind::ColumnIndex)` is deprecated, use `df[!, col_ind]` instead.\n",
      "│   caller = LogLike(::DataFrame, ::Int64) at Slatkin_functions.jl:103\n",
      "└ @ Main ~/Documents/projects/wip/IAV_within-host_Ne/scripts/Slatkin_functions.jl:103\n",
      "┌ Warning: `getindex(df::DataFrame, col_ind::ColumnIndex)` is deprecated, use `df[!, col_ind]` instead.\n",
      "│   caller = LogLike(::DataFrame, ::Int64) at Slatkin_functions.jl:103\n",
      "└ @ Main ~/Documents/projects/wip/IAV_within-host_Ne/scripts/Slatkin_functions.jl:103\n",
      "┌ Warning: `getindex(df::DataFrame, col_ind::ColumnIndex)` is deprecated, use `df[!, col_ind]` instead.\n",
      "│   caller = LogLike(::DataFrame, ::Int64) at Slatkin_functions.jl:103\n",
      "└ @ Main ~/Documents/projects/wip/IAV_within-host_Ne/scripts/Slatkin_functions.jl:103\n",
      "┌ Warning: `getindex(df::DataFrame, col_ind::ColumnIndex)` is deprecated, use `df[!, col_ind]` instead.\n",
      "│   caller = LogLike(::DataFrame, ::Int64) at Slatkin_functions.jl:103\n",
      "└ @ Main ~/Documents/projects/wip/IAV_within-host_Ne/scripts/Slatkin_functions.jl:103\n",
      "┌ Warning: `getindex(df::DataFrame, col_ind::ColumnIndex)` is deprecated, use `df[!, col_ind]` instead.\n",
      "│   caller = LogLike(::DataFrame, ::Int64) at Slatkin_functions.jl:103\n",
      "└ @ Main ~/Documents/projects/wip/IAV_within-host_Ne/scripts/Slatkin_functions.jl:103\n",
      "┌ Warning: `getindex(df::DataFrame, col_ind::ColumnIndex)` is deprecated, use `df[!, col_ind]` instead.\n",
      "│   caller = LogLike(::DataFrame, ::Int64) at Slatkin_functions.jl:103\n",
      "└ @ Main ~/Documents/projects/wip/IAV_within-host_Ne/scripts/Slatkin_functions.jl:103\n",
      "┌ Warning: `getindex(df::DataFrame, col_ind::ColumnIndex)` is deprecated, use `df[!, col_ind]` instead.\n",
      "│   caller = LogLike(::DataFrame, ::Int64) at Slatkin_functions.jl:103\n",
      "└ @ Main ~/Documents/projects/wip/IAV_within-host_Ne/scripts/Slatkin_functions.jl:103\n",
      "┌ Warning: `getindex(df::DataFrame, col_ind::ColumnIndex)` is deprecated, use `df[!, col_ind]` instead.\n",
      "│   caller = LogLike(::DataFrame, ::Int64) at Slatkin_functions.jl:103\n",
      "└ @ Main ~/Documents/projects/wip/IAV_within-host_Ne/scripts/Slatkin_functions.jl:103\n",
      "┌ Warning: `getindex(df::DataFrame, col_ind::ColumnIndex)` is deprecated, use `df[!, col_ind]` instead.\n",
      "│   caller = LogLike(::DataFrame, ::Int64) at Slatkin_functions.jl:103\n",
      "└ @ Main ~/Documents/projects/wip/IAV_within-host_Ne/scripts/Slatkin_functions.jl:103\n",
      "┌ Warning: `getindex(df::DataFrame, col_ind::ColumnIndex)` is deprecated, use `df[!, col_ind]` instead.\n",
      "│   caller = LogLike(::DataFrame, ::Int64) at Slatkin_functions.jl:103\n",
      "└ @ Main ~/Documents/projects/wip/IAV_within-host_Ne/scripts/Slatkin_functions.jl:103\n",
      "┌ Warning: `getindex(df::DataFrame, col_ind::ColumnIndex)` is deprecated, use `df[!, col_ind]` instead.\n",
      "│   caller = LogLike(::DataFrame, ::Int64) at Slatkin_functions.jl:103\n",
      "└ @ Main ~/Documents/projects/wip/IAV_within-host_Ne/scripts/Slatkin_functions.jl:103\n",
      "┌ Warning: `getindex(df::DataFrame, col_ind::ColumnIndex)` is deprecated, use `df[!, col_ind]` instead.\n",
      "│   caller = LogLike(::DataFrame, ::Int64) at Slatkin_functions.jl:103\n",
      "└ @ Main ~/Documents/projects/wip/IAV_within-host_Ne/scripts/Slatkin_functions.jl:103\n",
      "┌ Warning: `getindex(df::DataFrame, col_ind::ColumnIndex)` is deprecated, use `df[!, col_ind]` instead.\n",
      "│   caller = LogLike(::DataFrame, ::Int64) at Slatkin_functions.jl:103\n",
      "└ @ Main ~/Documents/projects/wip/IAV_within-host_Ne/scripts/Slatkin_functions.jl:103\n",
      "┌ Warning: `getindex(df::DataFrame, col_ind::ColumnIndex)` is deprecated, use `df[!, col_ind]` instead.\n",
      "│   caller = LogLike(::DataFrame, ::Int64) at Slatkin_functions.jl:103\n",
      "└ @ Main ~/Documents/projects/wip/IAV_within-host_Ne/scripts/Slatkin_functions.jl:103\n",
      "┌ Warning: `getindex(df::DataFrame, col_ind::ColumnIndex)` is deprecated, use `df[!, col_ind]` instead.\n",
      "│   caller = LogLike(::DataFrame, ::Int64) at Slatkin_functions.jl:103\n",
      "└ @ Main ~/Documents/projects/wip/IAV_within-host_Ne/scripts/Slatkin_functions.jl:103\n",
      "┌ Warning: `getindex(df::DataFrame, col_ind::ColumnIndex)` is deprecated, use `df[!, col_ind]` instead.\n",
      "│   caller = LogLike(::DataFrame, ::Int64) at Slatkin_functions.jl:103\n",
      "└ @ Main ~/Documents/projects/wip/IAV_within-host_Ne/scripts/Slatkin_functions.jl:103\n",
      "┌ Warning: `getindex(df::DataFrame, col_ind::ColumnIndex)` is deprecated, use `df[!, col_ind]` instead.\n",
      "│   caller = LogLike(::DataFrame, ::Int64) at Slatkin_functions.jl:103\n",
      "└ @ Main ~/Documents/projects/wip/IAV_within-host_Ne/scripts/Slatkin_functions.jl:103\n",
      "┌ Warning: `getindex(df::DataFrame, col_ind::ColumnIndex)` is deprecated, use `df[!, col_ind]` instead.\n",
      "│   caller = LogLike(::DataFrame, ::Int64) at Slatkin_functions.jl:103\n",
      "└ @ Main ~/Documents/projects/wip/IAV_within-host_Ne/scripts/Slatkin_functions.jl:103\n",
      "┌ Warning: `getindex(df::DataFrame, col_ind::ColumnIndex)` is deprecated, use `df[!, col_ind]` instead.\n",
      "│   caller = LogLike(::DataFrame, ::Int64) at Slatkin_functions.jl:103\n",
      "└ @ Main ~/Documents/projects/wip/IAV_within-host_Ne/scripts/Slatkin_functions.jl:103\n",
      "┌ Warning: `getindex(df::DataFrame, col_ind::ColumnIndex)` is deprecated, use `df[!, col_ind]` instead.\n",
      "│   caller = LogLike(::DataFrame, ::Int64) at Slatkin_functions.jl:103\n",
      "└ @ Main ~/Documents/projects/wip/IAV_within-host_Ne/scripts/Slatkin_functions.jl:103\n",
      "┌ Warning: `getindex(df::DataFrame, col_ind::ColumnIndex)` is deprecated, use `df[!, col_ind]` instead.\n",
      "│   caller = LogLike(::DataFrame, ::Int64) at Slatkin_functions.jl:103\n",
      "└ @ Main ~/Documents/projects/wip/IAV_within-host_Ne/scripts/Slatkin_functions.jl:103\n",
      "┌ Warning: `getindex(df::DataFrame, col_ind::ColumnIndex)` is deprecated, use `df[!, col_ind]` instead.\n",
      "│   caller = LogLike(::DataFrame, ::Int64) at Slatkin_functions.jl:103\n",
      "└ @ Main ~/Documents/projects/wip/IAV_within-host_Ne/scripts/Slatkin_functions.jl:103\n",
      "┌ Warning: `getindex(df::DataFrame, col_ind::ColumnIndex)` is deprecated, use `df[!, col_ind]` instead.\n",
      "│   caller = LogLike(::DataFrame, ::Int64) at Slatkin_functions.jl:103\n",
      "└ @ Main ~/Documents/projects/wip/IAV_within-host_Ne/scripts/Slatkin_functions.jl:103\n",
      "┌ Warning: `getindex(df::DataFrame, col_ind::ColumnIndex)` is deprecated, use `df[!, col_ind]` instead.\n",
      "│   caller = LogLike(::DataFrame, ::Int64) at Slatkin_functions.jl:103\n",
      "└ @ Main ~/Documents/projects/wip/IAV_within-host_Ne/scripts/Slatkin_functions.jl:103\n",
      "┌ Warning: `getindex(df::DataFrame, col_ind::ColumnIndex)` is deprecated, use `df[!, col_ind]` instead.\n",
      "│   caller = LogLike(::DataFrame, ::Int64) at Slatkin_functions.jl:103\n",
      "└ @ Main ~/Documents/projects/wip/IAV_within-host_Ne/scripts/Slatkin_functions.jl:103\n",
      "┌ Warning: `getindex(df::DataFrame, col_ind::ColumnIndex)` is deprecated, use `df[!, col_ind]` instead.\n",
      "│   caller = LogLike(::DataFrame, ::Int64) at Slatkin_functions.jl:103\n",
      "└ @ Main ~/Documents/projects/wip/IAV_within-host_Ne/scripts/Slatkin_functions.jl:103\n",
      "┌ Warning: `getindex(df::DataFrame, col_ind::ColumnIndex)` is deprecated, use `df[!, col_ind]` instead.\n",
      "│   caller = LogLike(::DataFrame, ::Int64) at Slatkin_functions.jl:103\n",
      "└ @ Main ~/Documents/projects/wip/IAV_within-host_Ne/scripts/Slatkin_functions.jl:103\n",
      "┌ Warning: `getindex(df::DataFrame, col_ind::ColumnIndex)` is deprecated, use `df[!, col_ind]` instead.\n",
      "│   caller = LogLike(::DataFrame, ::Int64) at Slatkin_functions.jl:103\n",
      "└ @ Main ~/Documents/projects/wip/IAV_within-host_Ne/scripts/Slatkin_functions.jl:103\n",
      "┌ Warning: `getindex(df::DataFrame, col_ind::ColumnIndex)` is deprecated, use `df[!, col_ind]` instead.\n",
      "│   caller = LogLike(::DataFrame, ::Int64) at Slatkin_functions.jl:103\n",
      "└ @ Main ~/Documents/projects/wip/IAV_within-host_Ne/scripts/Slatkin_functions.jl:103\n",
      "┌ Warning: `getindex(df::DataFrame, col_ind::ColumnIndex)` is deprecated, use `df[!, col_ind]` instead.\n",
      "│   caller = LogLike(::DataFrame, ::Int64) at Slatkin_functions.jl:103\n",
      "└ @ Main ~/Documents/projects/wip/IAV_within-host_Ne/scripts/Slatkin_functions.jl:103\n",
      "┌ Warning: `getindex(df::DataFrame, col_ind::ColumnIndex)` is deprecated, use `df[!, col_ind]` instead.\n",
      "│   caller = LogLike(::DataFrame, ::Int64) at Slatkin_functions.jl:103\n",
      "└ @ Main ~/Documents/projects/wip/IAV_within-host_Ne/scripts/Slatkin_functions.jl:103\n",
      "┌ Warning: `getindex(df::DataFrame, col_ind::ColumnIndex)` is deprecated, use `df[!, col_ind]` instead.\n",
      "│   caller = LogLike(::DataFrame, ::Int64) at Slatkin_functions.jl:103\n",
      "└ @ Main ~/Documents/projects/wip/IAV_within-host_Ne/scripts/Slatkin_functions.jl:103\n",
      "┌ Warning: `getindex(df::DataFrame, col_ind::ColumnIndex)` is deprecated, use `df[!, col_ind]` instead.\n",
      "│   caller = LogLike(::DataFrame, ::Int64) at Slatkin_functions.jl:103\n",
      "└ @ Main ~/Documents/projects/wip/IAV_within-host_Ne/scripts/Slatkin_functions.jl:103\n",
      "┌ Warning: `getindex(df::DataFrame, col_ind::ColumnIndex)` is deprecated, use `df[!, col_ind]` instead.\n",
      "│   caller = LogLike(::DataFrame, ::Int64) at Slatkin_functions.jl:103\n",
      "└ @ Main ~/Documents/projects/wip/IAV_within-host_Ne/scripts/Slatkin_functions.jl:103\n",
      "┌ Warning: `getindex(df::DataFrame, col_ind::ColumnIndex)` is deprecated, use `df[!, col_ind]` instead.\n",
      "│   caller = LogLike(::DataFrame, ::Int64) at Slatkin_functions.jl:103\n",
      "└ @ Main ~/Documents/projects/wip/IAV_within-host_Ne/scripts/Slatkin_functions.jl:103\n",
      "┌ Warning: `getindex(df::DataFrame, col_ind::ColumnIndex)` is deprecated, use `df[!, col_ind]` instead.\n",
      "│   caller = LogLike(::DataFrame, ::Int64) at Slatkin_functions.jl:103\n",
      "└ @ Main ~/Documents/projects/wip/IAV_within-host_Ne/scripts/Slatkin_functions.jl:103\n",
      "┌ Warning: `getindex(df::DataFrame, col_ind::ColumnIndex)` is deprecated, use `df[!, col_ind]` instead.\n",
      "│   caller = LogLike(::DataFrame, ::Int64) at Slatkin_functions.jl:103\n",
      "└ @ Main ~/Documents/projects/wip/IAV_within-host_Ne/scripts/Slatkin_functions.jl:103\n",
      "┌ Warning: `getindex(df::DataFrame, col_ind::ColumnIndex)` is deprecated, use `df[!, col_ind]` instead.\n",
      "│   caller = LogLike(::DataFrame, ::Int64) at Slatkin_functions.jl:103\n",
      "└ @ Main ~/Documents/projects/wip/IAV_within-host_Ne/scripts/Slatkin_functions.jl:103\n",
      "┌ Warning: `getindex(df::DataFrame, col_ind::ColumnIndex)` is deprecated, use `df[!, col_ind]` instead.\n",
      "│   caller = LogLike(::DataFrame, ::Int64) at Slatkin_functions.jl:103\n",
      "└ @ Main ~/Documents/projects/wip/IAV_within-host_Ne/scripts/Slatkin_functions.jl:103\n"
     ]
    },
    {
     "name": "stderr",
     "output_type": "stream",
     "text": [
      "┌ Warning: `getindex(df::DataFrame, col_ind::ColumnIndex)` is deprecated, use `df[!, col_ind]` instead.\n",
      "│   caller = LogLike(::DataFrame, ::Int64) at Slatkin_functions.jl:103\n",
      "└ @ Main ~/Documents/projects/wip/IAV_within-host_Ne/scripts/Slatkin_functions.jl:103\n",
      "┌ Warning: `getindex(df::DataFrame, col_ind::ColumnIndex)` is deprecated, use `df[!, col_ind]` instead.\n",
      "│   caller = LogLike(::DataFrame, ::Int64) at Slatkin_functions.jl:103\n",
      "└ @ Main ~/Documents/projects/wip/IAV_within-host_Ne/scripts/Slatkin_functions.jl:103\n",
      "┌ Warning: `getindex(df::DataFrame, col_ind::ColumnIndex)` is deprecated, use `df[!, col_ind]` instead.\n",
      "│   caller = LogLike(::DataFrame, ::Int64) at Slatkin_functions.jl:103\n",
      "└ @ Main ~/Documents/projects/wip/IAV_within-host_Ne/scripts/Slatkin_functions.jl:103\n",
      "┌ Warning: `getindex(df::DataFrame, col_ind::ColumnIndex)` is deprecated, use `df[!, col_ind]` instead.\n",
      "│   caller = LogLike(::DataFrame, ::Int64) at Slatkin_functions.jl:103\n",
      "└ @ Main ~/Documents/projects/wip/IAV_within-host_Ne/scripts/Slatkin_functions.jl:103\n",
      "┌ Warning: `getindex(df::DataFrame, col_ind::ColumnIndex)` is deprecated, use `df[!, col_ind]` instead.\n",
      "│   caller = LogLike(::DataFrame, ::Int64) at Slatkin_functions.jl:103\n",
      "└ @ Main ~/Documents/projects/wip/IAV_within-host_Ne/scripts/Slatkin_functions.jl:103\n",
      "┌ Warning: `getindex(df::DataFrame, col_ind::ColumnIndex)` is deprecated, use `df[!, col_ind]` instead.\n",
      "│   caller = LogLike(::DataFrame, ::Int64) at Slatkin_functions.jl:103\n",
      "└ @ Main ~/Documents/projects/wip/IAV_within-host_Ne/scripts/Slatkin_functions.jl:103\n",
      "┌ Warning: `getindex(df::DataFrame, col_ind::ColumnIndex)` is deprecated, use `df[!, col_ind]` instead.\n",
      "│   caller = LogLike(::DataFrame, ::Int64) at Slatkin_functions.jl:103\n",
      "└ @ Main ~/Documents/projects/wip/IAV_within-host_Ne/scripts/Slatkin_functions.jl:103\n",
      "┌ Warning: `getindex(df::DataFrame, col_ind::ColumnIndex)` is deprecated, use `df[!, col_ind]` instead.\n",
      "│   caller = LogLike(::DataFrame, ::Int64) at Slatkin_functions.jl:103\n",
      "└ @ Main ~/Documents/projects/wip/IAV_within-host_Ne/scripts/Slatkin_functions.jl:103\n",
      "┌ Warning: `getindex(df::DataFrame, col_ind::ColumnIndex)` is deprecated, use `df[!, col_ind]` instead.\n",
      "│   caller = LogLike(::DataFrame, ::Int64) at Slatkin_functions.jl:103\n",
      "└ @ Main ~/Documents/projects/wip/IAV_within-host_Ne/scripts/Slatkin_functions.jl:103\n",
      "┌ Warning: `getindex(df::DataFrame, col_ind::ColumnIndex)` is deprecated, use `df[!, col_ind]` instead.\n",
      "│   caller = LogLike(::DataFrame, ::Int64) at Slatkin_functions.jl:103\n",
      "└ @ Main ~/Documents/projects/wip/IAV_within-host_Ne/scripts/Slatkin_functions.jl:103\n",
      "┌ Warning: `getindex(df::DataFrame, col_ind::ColumnIndex)` is deprecated, use `df[!, col_ind]` instead.\n",
      "│   caller = LogLike(::DataFrame, ::Int64) at Slatkin_functions.jl:103\n",
      "└ @ Main ~/Documents/projects/wip/IAV_within-host_Ne/scripts/Slatkin_functions.jl:103\n",
      "┌ Warning: `getindex(df::DataFrame, col_ind::ColumnIndex)` is deprecated, use `df[!, col_ind]` instead.\n",
      "│   caller = LogLike(::DataFrame, ::Int64) at Slatkin_functions.jl:103\n",
      "└ @ Main ~/Documents/projects/wip/IAV_within-host_Ne/scripts/Slatkin_functions.jl:103\n",
      "┌ Warning: `getindex(df::DataFrame, col_ind::ColumnIndex)` is deprecated, use `df[!, col_ind]` instead.\n",
      "│   caller = LogLike(::DataFrame, ::Int64) at Slatkin_functions.jl:103\n",
      "└ @ Main ~/Documents/projects/wip/IAV_within-host_Ne/scripts/Slatkin_functions.jl:103\n",
      "┌ Warning: `getindex(df::DataFrame, col_ind::ColumnIndex)` is deprecated, use `df[!, col_ind]` instead.\n",
      "│   caller = LogLike(::DataFrame, ::Int64) at Slatkin_functions.jl:103\n",
      "└ @ Main ~/Documents/projects/wip/IAV_within-host_Ne/scripts/Slatkin_functions.jl:103\n",
      "┌ Warning: `getindex(df::DataFrame, col_ind::ColumnIndex)` is deprecated, use `df[!, col_ind]` instead.\n",
      "│   caller = LogLike(::DataFrame, ::Int64) at Slatkin_functions.jl:103\n",
      "└ @ Main ~/Documents/projects/wip/IAV_within-host_Ne/scripts/Slatkin_functions.jl:103\n",
      "┌ Warning: `getindex(df::DataFrame, col_ind::ColumnIndex)` is deprecated, use `df[!, col_ind]` instead.\n",
      "│   caller = LogLike(::DataFrame, ::Int64) at Slatkin_functions.jl:103\n",
      "└ @ Main ~/Documents/projects/wip/IAV_within-host_Ne/scripts/Slatkin_functions.jl:103\n",
      "┌ Warning: `getindex(df::DataFrame, col_ind::ColumnIndex)` is deprecated, use `df[!, col_ind]` instead.\n",
      "│   caller = LogLike(::DataFrame, ::Int64) at Slatkin_functions.jl:103\n",
      "└ @ Main ~/Documents/projects/wip/IAV_within-host_Ne/scripts/Slatkin_functions.jl:103\n",
      "┌ Warning: `getindex(df::DataFrame, col_ind::ColumnIndex)` is deprecated, use `df[!, col_ind]` instead.\n",
      "│   caller = LogLike(::DataFrame, ::Int64) at Slatkin_functions.jl:103\n",
      "└ @ Main ~/Documents/projects/wip/IAV_within-host_Ne/scripts/Slatkin_functions.jl:103\n",
      "┌ Warning: `getindex(df::DataFrame, col_ind::ColumnIndex)` is deprecated, use `df[!, col_ind]` instead.\n",
      "│   caller = LogLike(::DataFrame, ::Int64) at Slatkin_functions.jl:103\n",
      "└ @ Main ~/Documents/projects/wip/IAV_within-host_Ne/scripts/Slatkin_functions.jl:103\n",
      "┌ Warning: `getindex(df::DataFrame, col_ind::ColumnIndex)` is deprecated, use `df[!, col_ind]` instead.\n",
      "│   caller = LogLike(::DataFrame, ::Int64) at Slatkin_functions.jl:103\n",
      "└ @ Main ~/Documents/projects/wip/IAV_within-host_Ne/scripts/Slatkin_functions.jl:103\n",
      "┌ Warning: `getindex(df::DataFrame, col_ind::ColumnIndex)` is deprecated, use `df[!, col_ind]` instead.\n",
      "│   caller = LogLike(::DataFrame, ::Int64) at Slatkin_functions.jl:103\n",
      "└ @ Main ~/Documents/projects/wip/IAV_within-host_Ne/scripts/Slatkin_functions.jl:103\n",
      "┌ Warning: `getindex(df::DataFrame, col_ind::ColumnIndex)` is deprecated, use `df[!, col_ind]` instead.\n",
      "│   caller = LogLike(::DataFrame, ::Int64) at Slatkin_functions.jl:103\n",
      "└ @ Main ~/Documents/projects/wip/IAV_within-host_Ne/scripts/Slatkin_functions.jl:103\n",
      "┌ Warning: `getindex(df::DataFrame, col_ind::ColumnIndex)` is deprecated, use `df[!, col_ind]` instead.\n",
      "│   caller = LogLike(::DataFrame, ::Int64) at Slatkin_functions.jl:103\n",
      "└ @ Main ~/Documents/projects/wip/IAV_within-host_Ne/scripts/Slatkin_functions.jl:103\n",
      "┌ Warning: `getindex(df::DataFrame, col_ind::ColumnIndex)` is deprecated, use `df[!, col_ind]` instead.\n",
      "│   caller = LogLike(::DataFrame, ::Int64) at Slatkin_functions.jl:103\n",
      "└ @ Main ~/Documents/projects/wip/IAV_within-host_Ne/scripts/Slatkin_functions.jl:103\n",
      "┌ Warning: `getindex(df::DataFrame, col_ind::ColumnIndex)` is deprecated, use `df[!, col_ind]` instead.\n",
      "│   caller = LogLike(::DataFrame, ::Int64) at Slatkin_functions.jl:103\n",
      "└ @ Main ~/Documents/projects/wip/IAV_within-host_Ne/scripts/Slatkin_functions.jl:103\n",
      "┌ Warning: `getindex(df::DataFrame, col_ind::ColumnIndex)` is deprecated, use `df[!, col_ind]` instead.\n",
      "│   caller = LogLike(::DataFrame, ::Int64) at Slatkin_functions.jl:103\n",
      "└ @ Main ~/Documents/projects/wip/IAV_within-host_Ne/scripts/Slatkin_functions.jl:103\n",
      "┌ Warning: `getindex(df::DataFrame, col_ind::ColumnIndex)` is deprecated, use `df[!, col_ind]` instead.\n",
      "│   caller = LogLike(::DataFrame, ::Int64) at Slatkin_functions.jl:103\n",
      "└ @ Main ~/Documents/projects/wip/IAV_within-host_Ne/scripts/Slatkin_functions.jl:103\n",
      "┌ Warning: `getindex(df::DataFrame, col_ind::ColumnIndex)` is deprecated, use `df[!, col_ind]` instead.\n",
      "│   caller = LogLike(::DataFrame, ::Int64) at Slatkin_functions.jl:103\n",
      "└ @ Main ~/Documents/projects/wip/IAV_within-host_Ne/scripts/Slatkin_functions.jl:103\n",
      "┌ Warning: `getindex(df::DataFrame, col_ind::ColumnIndex)` is deprecated, use `df[!, col_ind]` instead.\n",
      "│   caller = LogLike(::DataFrame, ::Int64) at Slatkin_functions.jl:103\n",
      "└ @ Main ~/Documents/projects/wip/IAV_within-host_Ne/scripts/Slatkin_functions.jl:103\n",
      "┌ Warning: `getindex(df::DataFrame, col_ind::ColumnIndex)` is deprecated, use `df[!, col_ind]` instead.\n",
      "│   caller = LogLike(::DataFrame, ::Int64) at Slatkin_functions.jl:103\n",
      "└ @ Main ~/Documents/projects/wip/IAV_within-host_Ne/scripts/Slatkin_functions.jl:103\n",
      "┌ Warning: `getindex(df::DataFrame, col_ind::ColumnIndex)` is deprecated, use `df[!, col_ind]` instead.\n",
      "│   caller = LogLike(::DataFrame, ::Int64) at Slatkin_functions.jl:103\n",
      "└ @ Main ~/Documents/projects/wip/IAV_within-host_Ne/scripts/Slatkin_functions.jl:103\n",
      "┌ Warning: `getindex(df::DataFrame, col_ind::ColumnIndex)` is deprecated, use `df[!, col_ind]` instead.\n",
      "│   caller = LogLike(::DataFrame, ::Int64) at Slatkin_functions.jl:103\n",
      "└ @ Main ~/Documents/projects/wip/IAV_within-host_Ne/scripts/Slatkin_functions.jl:103\n",
      "┌ Warning: `getindex(df::DataFrame, col_ind::ColumnIndex)` is deprecated, use `df[!, col_ind]` instead.\n",
      "│   caller = LogLike(::DataFrame, ::Int64) at Slatkin_functions.jl:103\n",
      "└ @ Main ~/Documents/projects/wip/IAV_within-host_Ne/scripts/Slatkin_functions.jl:103\n",
      "┌ Warning: `getindex(df::DataFrame, col_ind::ColumnIndex)` is deprecated, use `df[!, col_ind]` instead.\n",
      "│   caller = LogLike(::DataFrame, ::Int64) at Slatkin_functions.jl:103\n",
      "└ @ Main ~/Documents/projects/wip/IAV_within-host_Ne/scripts/Slatkin_functions.jl:103\n",
      "┌ Warning: `getindex(df::DataFrame, col_ind::ColumnIndex)` is deprecated, use `df[!, col_ind]` instead.\n",
      "│   caller = LogLike(::DataFrame, ::Int64) at Slatkin_functions.jl:103\n",
      "└ @ Main ~/Documents/projects/wip/IAV_within-host_Ne/scripts/Slatkin_functions.jl:103\n",
      "┌ Warning: `getindex(df::DataFrame, col_ind::ColumnIndex)` is deprecated, use `df[!, col_ind]` instead.\n",
      "│   caller = LogLike(::DataFrame, ::Int64) at Slatkin_functions.jl:103\n",
      "└ @ Main ~/Documents/projects/wip/IAV_within-host_Ne/scripts/Slatkin_functions.jl:103\n",
      "┌ Warning: `getindex(df::DataFrame, col_ind::ColumnIndex)` is deprecated, use `df[!, col_ind]` instead.\n",
      "│   caller = LogLike(::DataFrame, ::Int64) at Slatkin_functions.jl:103\n",
      "└ @ Main ~/Documents/projects/wip/IAV_within-host_Ne/scripts/Slatkin_functions.jl:103\n",
      "┌ Warning: `getindex(df::DataFrame, col_ind::ColumnIndex)` is deprecated, use `df[!, col_ind]` instead.\n",
      "│   caller = LogLike(::DataFrame, ::Int64) at Slatkin_functions.jl:103\n",
      "└ @ Main ~/Documents/projects/wip/IAV_within-host_Ne/scripts/Slatkin_functions.jl:103\n",
      "┌ Warning: `getindex(df::DataFrame, col_ind::ColumnIndex)` is deprecated, use `df[!, col_ind]` instead.\n",
      "│   caller = LogLike(::DataFrame, ::Int64) at Slatkin_functions.jl:103\n",
      "└ @ Main ~/Documents/projects/wip/IAV_within-host_Ne/scripts/Slatkin_functions.jl:103\n"
     ]
    },
    {
     "name": "stderr",
     "output_type": "stream",
     "text": [
      "┌ Warning: `getindex(df::DataFrame, col_ind::ColumnIndex)` is deprecated, use `df[!, col_ind]` instead.\n",
      "│   caller = LogLike(::DataFrame, ::Int64) at Slatkin_functions.jl:103\n",
      "└ @ Main ~/Documents/projects/wip/IAV_within-host_Ne/scripts/Slatkin_functions.jl:103\n",
      "┌ Warning: `getindex(df::DataFrame, col_ind::ColumnIndex)` is deprecated, use `df[!, col_ind]` instead.\n",
      "│   caller = LogLike(::DataFrame, ::Int64) at Slatkin_functions.jl:103\n",
      "└ @ Main ~/Documents/projects/wip/IAV_within-host_Ne/scripts/Slatkin_functions.jl:103\n",
      "┌ Warning: `getindex(df::DataFrame, col_ind::ColumnIndex)` is deprecated, use `df[!, col_ind]` instead.\n",
      "│   caller = LogLike(::DataFrame, ::Int64) at Slatkin_functions.jl:103\n",
      "└ @ Main ~/Documents/projects/wip/IAV_within-host_Ne/scripts/Slatkin_functions.jl:103\n",
      "┌ Warning: `getindex(df::DataFrame, col_ind::ColumnIndex)` is deprecated, use `df[!, col_ind]` instead.\n",
      "│   caller = LogLike(::DataFrame, ::Int64) at Slatkin_functions.jl:103\n",
      "└ @ Main ~/Documents/projects/wip/IAV_within-host_Ne/scripts/Slatkin_functions.jl:103\n",
      "┌ Warning: `getindex(df::DataFrame, col_ind::ColumnIndex)` is deprecated, use `df[!, col_ind]` instead.\n",
      "│   caller = LogLike(::DataFrame, ::Int64) at Slatkin_functions.jl:103\n",
      "└ @ Main ~/Documents/projects/wip/IAV_within-host_Ne/scripts/Slatkin_functions.jl:103\n",
      "┌ Warning: `getindex(df::DataFrame, col_ind::ColumnIndex)` is deprecated, use `df[!, col_ind]` instead.\n",
      "│   caller = LogLike(::DataFrame, ::Int64) at Slatkin_functions.jl:103\n",
      "└ @ Main ~/Documents/projects/wip/IAV_within-host_Ne/scripts/Slatkin_functions.jl:103\n",
      "┌ Warning: `getindex(df::DataFrame, col_ind::ColumnIndex)` is deprecated, use `df[!, col_ind]` instead.\n",
      "│   caller = LogLike(::DataFrame, ::Int64) at Slatkin_functions.jl:103\n",
      "└ @ Main ~/Documents/projects/wip/IAV_within-host_Ne/scripts/Slatkin_functions.jl:103\n",
      "┌ Warning: `getindex(df::DataFrame, col_ind::ColumnIndex)` is deprecated, use `df[!, col_ind]` instead.\n",
      "│   caller = LogLike(::DataFrame, ::Int64) at Slatkin_functions.jl:103\n",
      "└ @ Main ~/Documents/projects/wip/IAV_within-host_Ne/scripts/Slatkin_functions.jl:103\n",
      "┌ Warning: `getindex(df::DataFrame, col_ind::ColumnIndex)` is deprecated, use `df[!, col_ind]` instead.\n",
      "│   caller = LogLike(::DataFrame, ::Int64) at Slatkin_functions.jl:103\n",
      "└ @ Main ~/Documents/projects/wip/IAV_within-host_Ne/scripts/Slatkin_functions.jl:103\n",
      "┌ Warning: `getindex(df::DataFrame, col_ind::ColumnIndex)` is deprecated, use `df[!, col_ind]` instead.\n",
      "│   caller = LogLike(::DataFrame, ::Int64) at Slatkin_functions.jl:103\n",
      "└ @ Main ~/Documents/projects/wip/IAV_within-host_Ne/scripts/Slatkin_functions.jl:103\n",
      "┌ Warning: `getindex(df::DataFrame, col_ind::ColumnIndex)` is deprecated, use `df[!, col_ind]` instead.\n",
      "│   caller = LogLike(::DataFrame, ::Int64) at Slatkin_functions.jl:103\n",
      "└ @ Main ~/Documents/projects/wip/IAV_within-host_Ne/scripts/Slatkin_functions.jl:103\n",
      "┌ Warning: `getindex(df::DataFrame, col_ind::ColumnIndex)` is deprecated, use `df[!, col_ind]` instead.\n",
      "│   caller = LogLike(::DataFrame, ::Int64) at Slatkin_functions.jl:103\n",
      "└ @ Main ~/Documents/projects/wip/IAV_within-host_Ne/scripts/Slatkin_functions.jl:103\n",
      "┌ Warning: `getindex(df::DataFrame, col_ind::ColumnIndex)` is deprecated, use `df[!, col_ind]` instead.\n",
      "│   caller = LogLike(::DataFrame, ::Int64) at Slatkin_functions.jl:103\n",
      "└ @ Main ~/Documents/projects/wip/IAV_within-host_Ne/scripts/Slatkin_functions.jl:103\n",
      "┌ Warning: `getindex(df::DataFrame, col_ind::ColumnIndex)` is deprecated, use `df[!, col_ind]` instead.\n",
      "│   caller = LogLike(::DataFrame, ::Int64) at Slatkin_functions.jl:103\n",
      "└ @ Main ~/Documents/projects/wip/IAV_within-host_Ne/scripts/Slatkin_functions.jl:103\n",
      "┌ Warning: `getindex(df::DataFrame, col_ind::ColumnIndex)` is deprecated, use `df[!, col_ind]` instead.\n",
      "│   caller = LogLike(::DataFrame, ::Int64) at Slatkin_functions.jl:103\n",
      "└ @ Main ~/Documents/projects/wip/IAV_within-host_Ne/scripts/Slatkin_functions.jl:103\n",
      "┌ Warning: `getindex(df::DataFrame, col_ind::ColumnIndex)` is deprecated, use `df[!, col_ind]` instead.\n",
      "│   caller = LogLike(::DataFrame, ::Int64) at Slatkin_functions.jl:103\n",
      "└ @ Main ~/Documents/projects/wip/IAV_within-host_Ne/scripts/Slatkin_functions.jl:103\n",
      "┌ Warning: `getindex(df::DataFrame, col_ind::ColumnIndex)` is deprecated, use `df[!, col_ind]` instead.\n",
      "│   caller = LogLike(::DataFrame, ::Int64) at Slatkin_functions.jl:103\n",
      "└ @ Main ~/Documents/projects/wip/IAV_within-host_Ne/scripts/Slatkin_functions.jl:103\n",
      "┌ Warning: `getindex(df::DataFrame, col_ind::ColumnIndex)` is deprecated, use `df[!, col_ind]` instead.\n",
      "│   caller = LogLike(::DataFrame, ::Int64) at Slatkin_functions.jl:103\n",
      "└ @ Main ~/Documents/projects/wip/IAV_within-host_Ne/scripts/Slatkin_functions.jl:103\n",
      "┌ Warning: `getindex(df::DataFrame, col_ind::ColumnIndex)` is deprecated, use `df[!, col_ind]` instead.\n",
      "│   caller = LogLike(::DataFrame, ::Int64) at Slatkin_functions.jl:103\n",
      "└ @ Main ~/Documents/projects/wip/IAV_within-host_Ne/scripts/Slatkin_functions.jl:103\n",
      "┌ Warning: `getindex(df::DataFrame, col_ind::ColumnIndex)` is deprecated, use `df[!, col_ind]` instead.\n",
      "│   caller = LogLike(::DataFrame, ::Int64) at Slatkin_functions.jl:103\n",
      "└ @ Main ~/Documents/projects/wip/IAV_within-host_Ne/scripts/Slatkin_functions.jl:103\n",
      "┌ Warning: `getindex(df::DataFrame, col_ind::ColumnIndex)` is deprecated, use `df[!, col_ind]` instead.\n",
      "│   caller = LogLike(::DataFrame, ::Int64) at Slatkin_functions.jl:103\n",
      "└ @ Main ~/Documents/projects/wip/IAV_within-host_Ne/scripts/Slatkin_functions.jl:103\n",
      "┌ Warning: `getindex(df::DataFrame, col_ind::ColumnIndex)` is deprecated, use `df[!, col_ind]` instead.\n",
      "│   caller = LogLike(::DataFrame, ::Int64) at Slatkin_functions.jl:103\n",
      "└ @ Main ~/Documents/projects/wip/IAV_within-host_Ne/scripts/Slatkin_functions.jl:103\n",
      "┌ Warning: `getindex(df::DataFrame, col_ind::ColumnIndex)` is deprecated, use `df[!, col_ind]` instead.\n",
      "│   caller = LogLike(::DataFrame, ::Int64) at Slatkin_functions.jl:103\n",
      "└ @ Main ~/Documents/projects/wip/IAV_within-host_Ne/scripts/Slatkin_functions.jl:103\n",
      "┌ Warning: `getindex(df::DataFrame, col_ind::ColumnIndex)` is deprecated, use `df[!, col_ind]` instead.\n",
      "│   caller = LogLike(::DataFrame, ::Int64) at Slatkin_functions.jl:103\n",
      "└ @ Main ~/Documents/projects/wip/IAV_within-host_Ne/scripts/Slatkin_functions.jl:103\n",
      "┌ Warning: `getindex(df::DataFrame, col_ind::ColumnIndex)` is deprecated, use `df[!, col_ind]` instead.\n",
      "│   caller = LogLike(::DataFrame, ::Int64) at Slatkin_functions.jl:103\n",
      "└ @ Main ~/Documents/projects/wip/IAV_within-host_Ne/scripts/Slatkin_functions.jl:103\n",
      "┌ Warning: `getindex(df::DataFrame, col_ind::ColumnIndex)` is deprecated, use `df[!, col_ind]` instead.\n",
      "│   caller = LogLike(::DataFrame, ::Int64) at Slatkin_functions.jl:103\n",
      "└ @ Main ~/Documents/projects/wip/IAV_within-host_Ne/scripts/Slatkin_functions.jl:103\n",
      "┌ Warning: `getindex(df::DataFrame, col_ind::ColumnIndex)` is deprecated, use `df[!, col_ind]` instead.\n",
      "│   caller = LogLike(::DataFrame, ::Int64) at Slatkin_functions.jl:103\n",
      "└ @ Main ~/Documents/projects/wip/IAV_within-host_Ne/scripts/Slatkin_functions.jl:103\n",
      "┌ Warning: `getindex(df::DataFrame, col_ind::ColumnIndex)` is deprecated, use `df[!, col_ind]` instead.\n",
      "│   caller = LogLike(::DataFrame, ::Int64) at Slatkin_functions.jl:103\n",
      "└ @ Main ~/Documents/projects/wip/IAV_within-host_Ne/scripts/Slatkin_functions.jl:103\n",
      "┌ Warning: `getindex(df::DataFrame, col_ind::ColumnIndex)` is deprecated, use `df[!, col_ind]` instead.\n",
      "│   caller = LogLike(::DataFrame, ::Int64) at Slatkin_functions.jl:103\n",
      "└ @ Main ~/Documents/projects/wip/IAV_within-host_Ne/scripts/Slatkin_functions.jl:103\n",
      "┌ Warning: `getindex(df::DataFrame, col_ind::ColumnIndex)` is deprecated, use `df[!, col_ind]` instead.\n",
      "│   caller = LogLike(::DataFrame, ::Int64) at Slatkin_functions.jl:103\n",
      "└ @ Main ~/Documents/projects/wip/IAV_within-host_Ne/scripts/Slatkin_functions.jl:103\n",
      "┌ Warning: `getindex(df::DataFrame, col_ind::ColumnIndex)` is deprecated, use `df[!, col_ind]` instead.\n",
      "│   caller = LogLike(::DataFrame, ::Int64) at Slatkin_functions.jl:103\n",
      "└ @ Main ~/Documents/projects/wip/IAV_within-host_Ne/scripts/Slatkin_functions.jl:103\n",
      "┌ Warning: `getindex(df::DataFrame, col_ind::ColumnIndex)` is deprecated, use `df[!, col_ind]` instead.\n",
      "│   caller = LogLike(::DataFrame, ::Int64) at Slatkin_functions.jl:103\n",
      "└ @ Main ~/Documents/projects/wip/IAV_within-host_Ne/scripts/Slatkin_functions.jl:103\n",
      "┌ Warning: `getindex(df::DataFrame, col_ind::ColumnIndex)` is deprecated, use `df[!, col_ind]` instead.\n",
      "│   caller = LogLike(::DataFrame, ::Int64) at Slatkin_functions.jl:103\n",
      "└ @ Main ~/Documents/projects/wip/IAV_within-host_Ne/scripts/Slatkin_functions.jl:103\n",
      "┌ Warning: `getindex(df::DataFrame, col_ind::ColumnIndex)` is deprecated, use `df[!, col_ind]` instead.\n",
      "│   caller = LogLike(::DataFrame, ::Int64) at Slatkin_functions.jl:103\n",
      "└ @ Main ~/Documents/projects/wip/IAV_within-host_Ne/scripts/Slatkin_functions.jl:103\n",
      "┌ Warning: `getindex(df::DataFrame, col_ind::ColumnIndex)` is deprecated, use `df[!, col_ind]` instead.\n",
      "│   caller = LogLike(::DataFrame, ::Int64) at Slatkin_functions.jl:103\n",
      "└ @ Main ~/Documents/projects/wip/IAV_within-host_Ne/scripts/Slatkin_functions.jl:103\n",
      "┌ Warning: `getindex(df::DataFrame, col_ind::ColumnIndex)` is deprecated, use `df[!, col_ind]` instead.\n",
      "│   caller = LogLike(::DataFrame, ::Int64) at Slatkin_functions.jl:103\n",
      "└ @ Main ~/Documents/projects/wip/IAV_within-host_Ne/scripts/Slatkin_functions.jl:103\n",
      "┌ Warning: `getindex(df::DataFrame, col_ind::ColumnIndex)` is deprecated, use `df[!, col_ind]` instead.\n",
      "│   caller = LogLike(::DataFrame, ::Int64) at Slatkin_functions.jl:103\n",
      "└ @ Main ~/Documents/projects/wip/IAV_within-host_Ne/scripts/Slatkin_functions.jl:103\n",
      "┌ Warning: `getindex(df::DataFrame, col_ind::ColumnIndex)` is deprecated, use `df[!, col_ind]` instead.\n",
      "│   caller = LogLike(::DataFrame, ::Int64) at Slatkin_functions.jl:103\n",
      "└ @ Main ~/Documents/projects/wip/IAV_within-host_Ne/scripts/Slatkin_functions.jl:103\n",
      "┌ Warning: `getindex(df::DataFrame, col_ind::ColumnIndex)` is deprecated, use `df[!, col_ind]` instead.\n",
      "│   caller = LogLike(::DataFrame, ::Int64) at Slatkin_functions.jl:103\n",
      "└ @ Main ~/Documents/projects/wip/IAV_within-host_Ne/scripts/Slatkin_functions.jl:103\n"
     ]
    },
    {
     "name": "stderr",
     "output_type": "stream",
     "text": [
      "┌ Warning: `getindex(df::DataFrame, col_ind::ColumnIndex)` is deprecated, use `df[!, col_ind]` instead.\n",
      "│   caller = LogLike(::DataFrame, ::Int64) at Slatkin_functions.jl:103\n",
      "└ @ Main ~/Documents/projects/wip/IAV_within-host_Ne/scripts/Slatkin_functions.jl:103\n",
      "┌ Warning: `getindex(df::DataFrame, col_ind::ColumnIndex)` is deprecated, use `df[!, col_ind]` instead.\n",
      "│   caller = LogLike(::DataFrame, ::Int64) at Slatkin_functions.jl:103\n",
      "└ @ Main ~/Documents/projects/wip/IAV_within-host_Ne/scripts/Slatkin_functions.jl:103\n",
      "┌ Warning: `getindex(df::DataFrame, col_ind::ColumnIndex)` is deprecated, use `df[!, col_ind]` instead.\n",
      "│   caller = LogLike(::DataFrame, ::Int64) at Slatkin_functions.jl:103\n",
      "└ @ Main ~/Documents/projects/wip/IAV_within-host_Ne/scripts/Slatkin_functions.jl:103\n",
      "┌ Warning: `getindex(df::DataFrame, col_ind::ColumnIndex)` is deprecated, use `df[!, col_ind]` instead.\n",
      "│   caller = LogLike(::DataFrame, ::Int64) at Slatkin_functions.jl:103\n",
      "└ @ Main ~/Documents/projects/wip/IAV_within-host_Ne/scripts/Slatkin_functions.jl:103\n",
      "┌ Warning: `getindex(df::DataFrame, col_ind::ColumnIndex)` is deprecated, use `df[!, col_ind]` instead.\n",
      "│   caller = LogLike(::DataFrame, ::Int64) at Slatkin_functions.jl:103\n",
      "└ @ Main ~/Documents/projects/wip/IAV_within-host_Ne/scripts/Slatkin_functions.jl:103\n",
      "┌ Warning: `getindex(df::DataFrame, col_ind::ColumnIndex)` is deprecated, use `df[!, col_ind]` instead.\n",
      "│   caller = LogLike(::DataFrame, ::Int64) at Slatkin_functions.jl:103\n",
      "└ @ Main ~/Documents/projects/wip/IAV_within-host_Ne/scripts/Slatkin_functions.jl:103\n",
      "┌ Warning: `getindex(df::DataFrame, col_ind::ColumnIndex)` is deprecated, use `df[!, col_ind]` instead.\n",
      "│   caller = LogLike(::DataFrame, ::Int64) at Slatkin_functions.jl:103\n",
      "└ @ Main ~/Documents/projects/wip/IAV_within-host_Ne/scripts/Slatkin_functions.jl:103\n",
      "┌ Warning: `getindex(df::DataFrame, col_ind::ColumnIndex)` is deprecated, use `df[!, col_ind]` instead.\n",
      "│   caller = LogLike(::DataFrame, ::Int64) at Slatkin_functions.jl:103\n",
      "└ @ Main ~/Documents/projects/wip/IAV_within-host_Ne/scripts/Slatkin_functions.jl:103\n",
      "┌ Warning: `getindex(df::DataFrame, col_ind::ColumnIndex)` is deprecated, use `df[!, col_ind]` instead.\n",
      "│   caller = LogLike(::DataFrame, ::Int64) at Slatkin_functions.jl:103\n",
      "└ @ Main ~/Documents/projects/wip/IAV_within-host_Ne/scripts/Slatkin_functions.jl:103\n",
      "┌ Warning: `getindex(df::DataFrame, col_ind::ColumnIndex)` is deprecated, use `df[!, col_ind]` instead.\n",
      "│   caller = LogLike(::DataFrame, ::Int64) at Slatkin_functions.jl:103\n",
      "└ @ Main ~/Documents/projects/wip/IAV_within-host_Ne/scripts/Slatkin_functions.jl:103\n",
      "┌ Warning: `getindex(df::DataFrame, col_ind::ColumnIndex)` is deprecated, use `df[!, col_ind]` instead.\n",
      "│   caller = LogLike(::DataFrame, ::Int64) at Slatkin_functions.jl:103\n",
      "└ @ Main ~/Documents/projects/wip/IAV_within-host_Ne/scripts/Slatkin_functions.jl:103\n",
      "┌ Warning: `getindex(df::DataFrame, col_ind::ColumnIndex)` is deprecated, use `df[!, col_ind]` instead.\n",
      "│   caller = LogLike(::DataFrame, ::Int64) at Slatkin_functions.jl:103\n",
      "└ @ Main ~/Documents/projects/wip/IAV_within-host_Ne/scripts/Slatkin_functions.jl:103\n",
      "┌ Warning: `getindex(df::DataFrame, col_ind::ColumnIndex)` is deprecated, use `df[!, col_ind]` instead.\n",
      "│   caller = LogLike(::DataFrame, ::Int64) at Slatkin_functions.jl:103\n",
      "└ @ Main ~/Documents/projects/wip/IAV_within-host_Ne/scripts/Slatkin_functions.jl:103\n",
      "┌ Warning: `getindex(df::DataFrame, col_ind::ColumnIndex)` is deprecated, use `df[!, col_ind]` instead.\n",
      "│   caller = LogLike(::DataFrame, ::Int64) at Slatkin_functions.jl:103\n",
      "└ @ Main ~/Documents/projects/wip/IAV_within-host_Ne/scripts/Slatkin_functions.jl:103\n",
      "┌ Warning: `getindex(df::DataFrame, col_ind::ColumnIndex)` is deprecated, use `df[!, col_ind]` instead.\n",
      "│   caller = LogLike(::DataFrame, ::Int64) at Slatkin_functions.jl:103\n",
      "└ @ Main ~/Documents/projects/wip/IAV_within-host_Ne/scripts/Slatkin_functions.jl:103\n"
     ]
    },
    {
     "ename": "MethodError",
     "evalue": "MethodError: no method matching maximum(::Array{Float64,1}, ::Int64)\nClosest candidates are:\n  maximum(!Matched::Union{Function, Type}, ::Any) at reduce.jl:468\n  maximum(::AbstractArray; dims) at reducedim.jl:645\n  maximum(::Any) at reduce.jl:485",
     "output_type": "error",
     "traceback": [
      "MethodError: no method matching maximum(::Array{Float64,1}, ::Int64)\nClosest candidates are:\n  maximum(!Matched::Union{Function, Type}, ::Any) at reduce.jl:468\n  maximum(::AbstractArray; dims) at reducedim.jl:645\n  maximum(::Any) at reduce.jl:485",
      "",
      "Stacktrace:",
      " [1] MLfit(::DataFrame, ::Int64, ::Int64) at /Users/jtmccrone/Documents/projects/wip/IAV_within-host_Ne/scripts/Slatkin_functions.jl:116",
      " [2] top-level scope at In[52]:8"
     ]
    }
   ],
   "source": [
    "runs = 1000\n",
    "NₑFits = zeros(runs)\n",
    "#p = Progress(runs, 1)\n",
    "maxN = 70\n",
    "minN = 1\n",
    "for i in 1:runs\n",
    "    set = by(minor,:ENROLLID, d-> sub_df(d))\n",
    "   NₑFits[i] = MLfit(set,minN,maxN)[1]\n",
    "    if maxN==NₑFits[i]\n",
    "        while maxN==NₑFits[i]\n",
    "        println(\"increasing window\")\n",
    "        maxN +=50\n",
    "        minN +=50\n",
    "        NₑFits[i] = MLfit(set,minN,maxN)[1]\n",
    "        end\n",
    "    end\n",
    "#    next!(p)\n",
    "end"
   ]
  },
  {
   "cell_type": "code",
   "execution_count": 22,
   "metadata": {},
   "outputs": [],
   "source": [
    "N1per = DataFrame(Ne=NₑFits,iteration = 1:runs)\n",
    "writetable(\"../data/processed/secondary/one_per_person.1.0.csv\",N1per)\n",
    "\n",
    "write_to_summary(\"Subset median 6 Ne:\",median(NₑFits))\n",
    "\n",
    "range = quantile(NₑFits,[0.25,0.75]) \n",
    "\n",
    "write_to_summary(\"Subset IQR 6 Ne:\",range)"
   ]
  },
  {
   "cell_type": "markdown",
   "metadata": {},
   "source": [
    "# Sensitivity to outliers\n",
    "\n",
    "\n",
    "try : p/(1-p) "
   ]
  },
  {
   "cell_type": "code",
   "execution_count": 23,
   "metadata": {},
   "outputs": [
    {
     "data": {
      "text/html": [
       "<table class=\"data-frame\"><thead><tr><th></th><th>x</th><th>chr</th><th>pos</th><th>SPECID1</th><th>SPECID2</th><th>HOUSE_ID</th><th>ENROLLID</th><th>onset</th><th>collect1</th><th>collect2</th><th>gc_ul1</th><th>gc_ul2</th><th>home_collected1</th><th>home_collected2</th><th>mutation</th><th>ref</th><th>var</th><th>season</th><th>pcr_result</th><th>freq1</th><th>freq2</th><th>within_host_time</th><th>donor_class</th><th>generations</th><th>delta2</th><th>delta</th></tr></thead><tbody><tr><th>1</th><td>81</td><td>NS</td><td>538</td><td>HS1390</td><td>MH7852</td><td>5341</td><td>51438</td><td>2014-12-07</td><td>2014-12-07</td><td>2014-12-08</td><td>238153.266798938</td><td>141146.054111149</td><td>1</td><td>0</td><td>NS_T538C</td><td>T</td><td>C</td><td>2014-2015</td><td>A/H3N2</td><td>0.0487008376097</td><td>0.48757896261</td><td>1</td><td>Nonsynonymous</td><td>4</td><td>-0.22508153994468644</td><td>-0.109719531250075</td></tr><tr><th>2</th><td>72</td><td>NR</td><td>501</td><td>HS1381</td><td>MH7800</td><td>5204</td><td>50874</td><td>2014-12-05</td><td>2014-12-05</td><td>2014-12-06</td><td>1446.10996315801</td><td>21196.4885031859</td><td>1</td><td>0</td><td>NR_A501G</td><td>A</td><td>G</td><td>2014-2015</td><td>A/H3N2</td><td>0.0331706001001</td><td>0.467637282551</td><td>1</td><td>Nonsynonymous</td><td>4</td><td>-0.2110274761681239</td><td>-0.10861667061272501</td></tr><tr><th>3</th><td>19</td><td>HA</td><td>524</td><td>HS1390</td><td>MH7852</td><td>5341</td><td>51438</td><td>2014-12-07</td><td>2014-12-07</td><td>2014-12-08</td><td>238153.266798938</td><td>141146.054111149</td><td>1</td><td>0</td><td>HA_T524C</td><td>T</td><td>C</td><td>2014-2015</td><td>A/H3N2</td><td>0.0588456364788</td><td>0.489384735077</td><td>1</td><td>Synonymous</td><td>4</td><td>-0.22397417822143598</td><td>-0.10763477464955</td></tr><tr><th>4</th><td>124</td><td>PB1</td><td>1798</td><td>HS1381</td><td>MH7800</td><td>5204</td><td>50874</td><td>2014-12-05</td><td>2014-12-05</td><td>2014-12-06</td><td>1446.10996315801</td><td>21196.4885031859</td><td>1</td><td>0</td><td>PB1_G1798G</td><td>G</td><td>G</td><td>2014-2015</td><td>A/H3N2</td><td>0.178816730614</td><td>0.443234092666</td><td>1</td><td>Synonymous</td><td>4</td><td>-0.14458300612173788</td><td>-0.066104340513</td></tr><tr><th>5</th><td>133</td><td>PB1</td><td>530</td><td>HS1381</td><td>MH7800</td><td>5204</td><td>50874</td><td>2014-12-05</td><td>2014-12-05</td><td>2014-12-06</td><td>1446.10996315801</td><td>21196.4885031859</td><td>1</td><td>0</td><td>PB1_G530A</td><td>G</td><td>A</td><td>2014-2015</td><td>A/H3N2</td><td>0.25351760292</td><td>0.473359560691</td><td>1</td><td>Nonsynonymous</td><td>4</td><td>-0.13980310471900476</td><td>-0.054960489442750005</td></tr><tr><th>6</th><td>129</td><td>PB1</td><td>430</td><td>HS1390</td><td>MH7852</td><td>5341</td><td>51438</td><td>2014-12-07</td><td>2014-12-07</td><td>2014-12-08</td><td>238153.266798938</td><td>141146.054111149</td><td>1</td><td>0</td><td>PB1_G430A</td><td>G</td><td>A</td><td>2014-2015</td><td>A/H3N2</td><td>0.220772809253</td><td>0.0396486125248</td><td>1</td><td>Synonymous</td><td>4</td><td>-0.06050931190757523</td><td>-0.04528104918205</td></tr><tr><th>7</th><td>23</td><td>HA</td><td>638</td><td>HS1390</td><td>MH7852</td><td>5341</td><td>51438</td><td>2014-12-07</td><td>2014-12-07</td><td>2014-12-08</td><td>238153.266798938</td><td>141146.054111149</td><td>1</td><td>0</td><td>HA_G638A</td><td>G</td><td>A</td><td>2014-2015</td><td>A/H3N2</td><td>0.213904415309</td><td>0.0359769154235</td><td>1</td><td>Synonymous</td><td>4</td><td>-0.05869759324840944</td><td>-0.044481874971375</td></tr><tr><th>8</th><td>153</td><td>PB2</td><td>212</td><td>HS1381</td><td>MH7800</td><td>5204</td><td>50874</td><td>2014-12-05</td><td>2014-12-05</td><td>2014-12-06</td><td>1446.10996315801</td><td>21196.4885031859</td><td>1</td><td>0</td><td>PB2_G212A</td><td>G</td><td>A</td><td>2014-2015</td><td>A/H3N2</td><td>0.302404459968</td><td>0.470121801684</td><td>1</td><td>Nonsynonymous</td><td>4</td><td>-0.11343269036546312</td><td>-0.041929335429</td></tr><tr><th>9</th><td>120</td><td>PB1</td><td>1705</td><td>HS1381</td><td>MH7800</td><td>5204</td><td>50874</td><td>2014-12-05</td><td>2014-12-05</td><td>2014-12-06</td><td>1446.10996315801</td><td>21196.4885031859</td><td>1</td><td>0</td><td>PB1_A1705G</td><td>A</td><td>G</td><td>2014-2015</td><td>A/H3N2</td><td>0.296343011523</td><td>0.461350779373</td><td>1</td><td>Synonymous</td><td>4</td><td>-0.10883719914934745</td><td>-0.0412519419625</td></tr><tr><th>10</th><td>137</td><td>PB1</td><td>910</td><td>HS1505</td><td>MH8391</td><td>5254</td><td>51073</td><td>2014-12-20</td><td>2014-12-20</td><td>2014-12-22</td><td>4.52234282269474e6</td><td>21881.0520421267</td><td>1</td><td>0</td><td>PB1_T910A</td><td>T</td><td>A</td><td>2014-2015</td><td>A/H3N2</td><td>0.340472493385</td><td>0.0421432505725</td><td>2</td><td>Synonymous</td><td>8</td><td>-0.05902994272949828</td><td>-0.0372911553515625</td></tr><tr><th>11</th><td>93</td><td>PA</td><td>1701</td><td>HS1313</td><td>MH7520</td><td>5143</td><td>50620</td><td>2014-11-22</td><td>2014-11-22</td><td>2014-11-24</td><td>4.29219110137329e6</td><td>2839.40450937719</td><td>1</td><td>0</td><td>PA_G1701A</td><td>G</td><td>A</td><td>2014-2015</td><td>A/H3N2</td><td>0.230503852869</td><td>0.523499257414</td><td>2</td><td>Synonymous</td><td>8</td><td>-0.09988511876345976</td><td>-0.03662442556812501</td></tr><tr><th>12</th><td>37</td><td>NP</td><td>1011</td><td>HS1416</td><td>MH7890</td><td>5070</td><td>50305</td><td>2014-12-05</td><td>2014-12-07</td><td>2014-12-10</td><td>31296.7324317693</td><td>93437.9191253739</td><td>1</td><td>0</td><td>NP_A1011A</td><td>A</td><td>A</td><td>2014-2015</td><td>A/H3N2</td><td>0.272598938811</td><td>0.67699981639</td><td>3</td><td>Synonymous</td><td>12</td><td>-0.1434346717324406</td><td>-0.03370007313158333</td></tr><tr><th>13</th><td>55</td><td>NP</td><td>942</td><td>HS1421</td><td>MH7905</td><td>5245</td><td>51046</td><td>2014-12-08</td><td>2014-12-09</td><td>2014-12-10</td><td>1813.03726188786</td><td>1624.18956305428</td><td>1</td><td>0</td><td>NP_G942A</td><td>G</td><td>A</td><td>2014-2015</td><td>A/H3N2</td><td>0.208095813744</td><td>0.0977810655399</td><td>1</td><td>Synonymous</td><td>4</td><td>-0.03860015163367429</td><td>-0.027578687051024998</td></tr><tr><th>14</th><td>8</td><td>HA</td><td>1486</td><td>HS1381</td><td>MH7800</td><td>5204</td><td>50874</td><td>2014-12-05</td><td>2014-12-05</td><td>2014-12-06</td><td>1446.10996315801</td><td>21196.4885031859</td><td>1</td><td>0</td><td>HA_A1486T</td><td>A</td><td>T</td><td>2014-2015</td><td>A/H3N2</td><td>0.103900854115</td><td>0.0</td><td>1</td><td>Nonsynonymous</td><td>4</td><td>-0.02898698614771752</td><td>-0.02597521352875</td></tr><tr><th>15</th><td>17</td><td>HA</td><td>491</td><td>HS1566</td><td>MH8700</td><td>5039</td><td>50167</td><td>2014-12-27</td><td>2014-12-28</td><td>2014-12-31</td><td>3225.36866342537</td><td>20695.5542972638</td><td>1</td><td>0</td><td>HA_T491C</td><td>T</td><td>C</td><td>2014-2015</td><td>A/H3N2</td><td>0.287317227262</td><td>0.0</td><td>3</td><td>Synonymous</td><td>12</td><td>-0.03359573598201091</td><td>-0.02394310227183333</td></tr><tr><th>16</th><td>80</td><td>NS</td><td>453</td><td>HS1474</td><td>MH8186</td><td>5249</td><td>51055</td><td>2014-12-15</td><td>2014-12-15</td><td>2014-12-17</td><td>388359.824187841</td><td>10106.674906501</td><td>1</td><td>0</td><td>NS_A453G</td><td>A</td><td>G</td><td>2014-2015</td><td>A/H3N2</td><td>0.147829492147</td><td>0.0</td><td>2</td><td>Nonsynonymous</td><td>8</td><td>-0.021684259603082377</td><td>-0.018478686518375</td></tr><tr><th>17</th><td>35</td><td>M</td><td>553</td><td>HS1520</td><td>MH8445</td><td>5250</td><td>51059</td><td>2014-12-22</td><td>2014-12-22</td><td>2014-12-23</td><td>2.66497484124855e7</td><td>891510.933752938</td><td>1</td><td>0</td><td>M_G553A</td><td>G</td><td>A</td><td>2014-2015</td><td>A/H3N2</td><td>0.0897057347185</td><td>0.0328200308996</td><td>1</td><td>Synonymous</td><td>4</td><td>-0.01615303165859181</td><td>-0.014221425954725002</td></tr><tr><th>18</th><td>148</td><td>PB2</td><td>1893</td><td>HS1340</td><td>MH7627</td><td>5048</td><td>50207</td><td>2014-11-30</td><td>2014-11-30</td><td>2014-12-01</td><td>4.35098914626686e6</td><td>281214.85983637</td><td>1</td><td>0</td><td>PB2_A1893T</td><td>A</td><td>T</td><td>2014-2015</td><td>A/H3N2</td><td>0.0552275151719</td><td>0.0</td><td>1</td><td>Synonymous</td><td>4</td><td>-0.01461397216228957</td><td>-0.013806878792975</td></tr><tr><th>19</th><td>30</td><td>HA</td><td>995</td><td>HS1256</td><td>MH7391</td><td>5129</td><td>50553</td><td>2014-11-16</td><td>2014-11-16</td><td>2014-11-17</td><td>2.82809610866543e6</td><td>8010.33563290432</td><td>1</td><td>0</td><td>HA_C995T</td><td>C</td><td>T</td><td>2014-2015</td><td>A/H3N2</td><td>0.0380427122411</td><td>0.087795844906</td><td>1</td><td>Synonymous</td><td>4</td><td>-0.01417465849204775</td><td>-0.012438283166224999</td></tr><tr><th>20</th><td>31</td><td>HA</td><td>997</td><td>HS1604</td><td>MH9045</td><td>5034</td><td>50143</td><td>2015-01-11</td><td>2015-01-12</td><td>2015-01-13</td><td>409463.82903885</td><td>13777.0277415602</td><td>1</td><td>0</td><td>HA_G997G</td><td>G</td><td>G</td><td>2014-2015</td><td>A/H3N2</td><td>0.118965758211</td><td>0.160588985754</td><td>1</td><td>Nonsynonymous</td><td>4</td><td>-0.014070460477004741</td><td>-0.010405806885749998</td></tr><tr><th>21</th><td>85</td><td>NS</td><td>687</td><td>HS1517</td><td>MH8442</td><td>5197</td><td>50842</td><td>2014-12-22</td><td>2014-12-22</td><td>2014-12-23</td><td>753947.294546966</td><td>221313.744347473</td><td>1</td><td>0</td><td>NS_G687A</td><td>G</td><td>A</td><td>2014-2015</td><td>A/H3N2</td><td>0.0681319007211</td><td>0.0292183267245</td><td>1</td><td>Nonsynonymous</td><td>4</td><td>-0.010753878245378235</td><td>-0.009728393499149997</td></tr><tr><th>22</th><td>22</td><td>HA</td><td>545</td><td>HS1409</td><td>MH7886</td><td>5126</td><td>50540</td><td>2014-12-06</td><td>2014-12-06</td><td>2014-12-09</td><td>9153.80335873375</td><td>2627.54866436138</td><td>1</td><td>0</td><td>HA_C545T</td><td>C</td><td>T</td><td>2014-2015</td><td>A/H3N2</td><td>0.0680510202664</td><td>0.18189226088</td><td>3</td><td>Synonymous</td><td>12</td><td>-0.012442731672314624</td><td>-0.009486770051133332</td></tr><tr><th>23</th><td>160</td><td>PB2</td><td>880</td><td>HS1335</td><td>MH7612</td><td>5073</td><td>50319</td><td>2014-11-25</td><td>2014-11-25</td><td>2014-11-26</td><td>224616.057124778</td><td>654239.112547579</td><td>1</td><td>0</td><td>PB2_C880T</td><td>C</td><td>T</td><td>2014-2015</td><td>A/H3N2</td><td>0.0360841803356</td><td>0.0</td><td>1</td><td>Nonsynonymous</td><td>4</td><td>-0.009358747828249978</td><td>-0.0090210450839</td></tr><tr><th>24</th><td>26</td><td>HA</td><td>879</td><td>HS1401</td><td>MH7855</td><td>5228</td><td>50968</td><td>2014-12-06</td><td>2014-12-07</td><td>2014-12-08</td><td>59552.1759622025</td><td>2383.59539700922</td><td>1</td><td>0</td><td>HA_A879C</td><td>A</td><td>C</td><td>2014-2015</td><td>A/H3N2</td><td>0.0341160572648</td><td>0.0</td><td>1</td><td>Nonsynonymous</td><td>4</td><td>-0.008830268253603482</td><td>-0.0085290143162</td></tr><tr><th>25</th><td>98</td><td>PA</td><td>1795</td><td>HS1595</td><td>MH8925</td><td>5234</td><td>50993</td><td>2015-01-04</td><td>2015-01-06</td><td>2015-01-09</td><td>4.84046142881588e6</td><td>34583.56208775</td><td>1</td><td>0</td><td>PA_A1795G</td><td>A</td><td>G</td><td>2014-2015</td><td>A/H3N2</td><td>0.102067566964</td><td>0.0</td><td>3</td><td>Nonsynonymous</td><td>12</td><td>-0.009472461699122438</td><td>-0.008505630580333334</td></tr><tr><th>26</th><td>127</td><td>PB1</td><td>1900</td><td>HS1531</td><td>MH8592</td><td>5098</td><td>50418</td><td>2014-12-27</td><td>2014-12-28</td><td>2014-12-29</td><td>75379.7949599435</td><td>251821.707281717</td><td>1</td><td>0</td><td>PB1_G1900A</td><td>G</td><td>A</td><td>2014-2015</td><td>A/H3N2</td><td>0.0282897855058</td><td>0.0</td><td>1</td><td>Synonymous</td><td>4</td><td>-0.007278349317477731</td><td>-0.00707244637645</td></tr><tr><th>27</th><td>106</td><td>PA</td><td>519</td><td>HS1351</td><td>MH7687</td><td>5228</td><td>50969</td><td>2014-12-01</td><td>2014-12-01</td><td>2014-12-02</td><td>4.25638459000529e6</td><td>89830.6666256944</td><td>1</td><td>0</td><td>PA_A519G</td><td>A</td><td>G</td><td>2014-2015</td><td>A/H3N2</td><td>0.0259055480325</td><td>0.0</td><td>1</td><td>Synonymous</td><td>4</td><td>-0.006648623236734214</td><td>-0.006476387008125</td></tr><tr><th>28</th><td>11</td><td>HA</td><td>236</td><td>HS1376</td><td>MH7755</td><td>5033</td><td>50141</td><td>2014-12-03</td><td>2014-12-04</td><td>2014-12-05</td><td>1.09904707427442e6</td><td>9328.66776540432</td><td>1</td><td>0</td><td>HA_C236A</td><td>C</td><td>A</td><td>2014-2015</td><td>A/H3N2</td><td>0.0251913260241</td><td>0.0</td><td>1</td><td>Nonsynonymous</td><td>4</td><td>-0.006460582136942187</td><td>-0.006297831506025</td></tr><tr><th>29</th><td>44</td><td>NP</td><td>1334</td><td>HS1417</td><td>MH7891</td><td>5078</td><td>50331</td><td>2014-12-09</td><td>2014-12-09</td><td>2014-12-10</td><td>1105.33294512701</td><td>27992.2367742622</td><td>1</td><td>0</td><td>NP_C1334T</td><td>C</td><td>T</td><td>2014-2015</td><td>A/H3N2</td><td>0.0293693096763</td><td>0.0545497547818</td><td>1</td><td>Nonsynonymous</td><td>4</td><td>-0.006859788304333575</td><td>-0.006295111276375</td></tr><tr><th>30</th><td>112</td><td>PB1</td><td>1204</td><td>HS1427</td><td>MH7953</td><td>5191</td><td>50812</td><td>2014-12-10</td><td>2014-12-10</td><td>2014-12-11</td><td>20993.5446866126</td><td>2189.55112854501</td><td>1</td><td>0</td><td>PB1_A1204G</td><td>A</td><td>G</td><td>2014-2015</td><td>A/H3N2</td><td>0.0245627983103</td><td>0.0</td><td>1</td><td>Synonymous</td><td>4</td><td>-0.006295330511218744</td><td>-0.006140699577575</td></tr><tr><th>&vellip;</th><td>&vellip;</td><td>&vellip;</td><td>&vellip;</td><td>&vellip;</td><td>&vellip;</td><td>&vellip;</td><td>&vellip;</td><td>&vellip;</td><td>&vellip;</td><td>&vellip;</td><td>&vellip;</td><td>&vellip;</td><td>&vellip;</td><td>&vellip;</td><td>&vellip;</td><td>&vellip;</td><td>&vellip;</td><td>&vellip;</td><td>&vellip;</td><td>&vellip;</td><td>&vellip;</td><td>&vellip;</td><td>&vellip;</td><td>&vellip;</td><td>&vellip;</td><td>&vellip;</td></tr></tbody></table>"
      ],
      "text/plain": [
       "63×26 DataFrames.DataFrame\n",
       "│ Row │ x   │ chr   │ pos  │ SPECID1  │ SPECID2  │ HOUSE_ID │ ENROLLID │\n",
       "├─────┼─────┼───────┼──────┼──────────┼──────────┼──────────┼──────────┤\n",
       "│ 1   │ 81  │ \"NS\"  │ 538  │ \"HS1390\" │ \"MH7852\" │ 5341     │ 51438    │\n",
       "│ 2   │ 72  │ \"NR\"  │ 501  │ \"HS1381\" │ \"MH7800\" │ 5204     │ 50874    │\n",
       "│ 3   │ 19  │ \"HA\"  │ 524  │ \"HS1390\" │ \"MH7852\" │ 5341     │ 51438    │\n",
       "│ 4   │ 124 │ \"PB1\" │ 1798 │ \"HS1381\" │ \"MH7800\" │ 5204     │ 50874    │\n",
       "│ 5   │ 133 │ \"PB1\" │ 530  │ \"HS1381\" │ \"MH7800\" │ 5204     │ 50874    │\n",
       "│ 6   │ 129 │ \"PB1\" │ 430  │ \"HS1390\" │ \"MH7852\" │ 5341     │ 51438    │\n",
       "│ 7   │ 23  │ \"HA\"  │ 638  │ \"HS1390\" │ \"MH7852\" │ 5341     │ 51438    │\n",
       "│ 8   │ 153 │ \"PB2\" │ 212  │ \"HS1381\" │ \"MH7800\" │ 5204     │ 50874    │\n",
       "│ 9   │ 120 │ \"PB1\" │ 1705 │ \"HS1381\" │ \"MH7800\" │ 5204     │ 50874    │\n",
       "│ 10  │ 137 │ \"PB1\" │ 910  │ \"HS1505\" │ \"MH8391\" │ 5254     │ 51073    │\n",
       "│ 11  │ 93  │ \"PA\"  │ 1701 │ \"HS1313\" │ \"MH7520\" │ 5143     │ 50620    │\n",
       "⋮\n",
       "│ 52  │ 89  │ \"PA\"  │ 1065 │ \"HS1487\" │ \"MH8308\" │ 5238     │ 51000    │\n",
       "│ 53  │ 107 │ \"PA\"  │ 916  │ \"HS1604\" │ \"MH9045\" │ 5034     │ 50143    │\n",
       "│ 54  │ 16  │ \"HA\"  │ 418  │ \"HS1595\" │ \"MH8925\" │ 5234     │ 50993    │\n",
       "│ 55  │ 33  │ \"M\"   │ 303  │ \"HS1595\" │ \"MH8925\" │ 5234     │ 50993    │\n",
       "│ 56  │ 116 │ \"PB1\" │ 1558 │ \"HS1595\" │ \"MH8925\" │ 5234     │ 50993    │\n",
       "│ 57  │ 46  │ \"NP\"  │ 207  │ \"HS1336\" │ \"MH7611\" │ 5073     │ 50318    │\n",
       "│ 58  │ 136 │ \"PB1\" │ 877  │ \"HS1336\" │ \"MH7611\" │ 5073     │ 50318    │\n",
       "│ 59  │ 9   │ \"HA\"  │ 1670 │ \"HS1340\" │ \"MH7627\" │ 5048     │ 50207    │\n",
       "│ 60  │ 54  │ \"NP\"  │ 912  │ \"HS1579\" │ \"MH8766\" │ 5057     │ 50246    │\n",
       "│ 61  │ 58  │ \"NR\"  │ 1099 │ \"HS1531\" │ \"MH8592\" │ 5098     │ 50418    │\n",
       "│ 62  │ 76  │ \"NS\"  │ 169  │ \"HS1408\" │ \"MH7884\" │ 5126     │ 50538    │\n",
       "│ 63  │ 121 │ \"PB1\" │ 1741 │ \"HS1596\" │ \"MH8922\" │ 5170     │ 50727    │\n",
       "\n",
       "│ Row │ onset        │ collect1     │ collect2     │ gc_ul1    │ gc_ul2    │\n",
       "├─────┼──────────────┼──────────────┼──────────────┼───────────┼───────────┤\n",
       "│ 1   │ \"2014-12-07\" │ \"2014-12-07\" │ \"2014-12-08\" │ 2.38153e5 │ 1.41146e5 │\n",
       "│ 2   │ \"2014-12-05\" │ \"2014-12-05\" │ \"2014-12-06\" │ 1446.11   │ 21196.5   │\n",
       "│ 3   │ \"2014-12-07\" │ \"2014-12-07\" │ \"2014-12-08\" │ 2.38153e5 │ 1.41146e5 │\n",
       "│ 4   │ \"2014-12-05\" │ \"2014-12-05\" │ \"2014-12-06\" │ 1446.11   │ 21196.5   │\n",
       "│ 5   │ \"2014-12-05\" │ \"2014-12-05\" │ \"2014-12-06\" │ 1446.11   │ 21196.5   │\n",
       "│ 6   │ \"2014-12-07\" │ \"2014-12-07\" │ \"2014-12-08\" │ 2.38153e5 │ 1.41146e5 │\n",
       "│ 7   │ \"2014-12-07\" │ \"2014-12-07\" │ \"2014-12-08\" │ 2.38153e5 │ 1.41146e5 │\n",
       "│ 8   │ \"2014-12-05\" │ \"2014-12-05\" │ \"2014-12-06\" │ 1446.11   │ 21196.5   │\n",
       "│ 9   │ \"2014-12-05\" │ \"2014-12-05\" │ \"2014-12-06\" │ 1446.11   │ 21196.5   │\n",
       "│ 10  │ \"2014-12-20\" │ \"2014-12-20\" │ \"2014-12-22\" │ 4.52234e6 │ 21881.1   │\n",
       "│ 11  │ \"2014-11-22\" │ \"2014-11-22\" │ \"2014-11-24\" │ 4.29219e6 │ 2839.4    │\n",
       "⋮\n",
       "│ 52  │ \"2014-12-16\" │ \"2014-12-16\" │ \"2014-12-18\" │ 17815.4   │ 4792.65   │\n",
       "│ 53  │ \"2015-01-11\" │ \"2015-01-12\" │ \"2015-01-13\" │ 4.09464e5 │ 13777.0   │\n",
       "│ 54  │ \"2015-01-04\" │ \"2015-01-06\" │ \"2015-01-09\" │ 4.84046e6 │ 34583.6   │\n",
       "│ 55  │ \"2015-01-04\" │ \"2015-01-06\" │ \"2015-01-09\" │ 4.84046e6 │ 34583.6   │\n",
       "│ 56  │ \"2015-01-04\" │ \"2015-01-06\" │ \"2015-01-09\" │ 4.84046e6 │ 34583.6   │\n",
       "│ 57  │ \"2014-11-23\" │ \"2014-11-23\" │ \"2014-11-26\" │ 1.97186e6 │ 8499.45   │\n",
       "│ 58  │ \"2014-11-23\" │ \"2014-11-23\" │ \"2014-11-26\" │ 1.97186e6 │ 8499.45   │\n",
       "│ 59  │ \"2014-11-30\" │ \"2014-11-30\" │ \"2014-12-01\" │ 4.35099e6 │ 2.81215e5 │\n",
       "│ 60  │ \"2015-01-01\" │ \"2015-01-01\" │ \"2015-01-05\" │ 44344.6   │ 1.68188e5 │\n",
       "│ 61  │ \"2014-12-27\" │ \"2014-12-28\" │ \"2014-12-29\" │ 75379.8   │ 2.51822e5 │\n",
       "│ 62  │ \"2014-12-08\" │ \"2014-12-06\" │ \"2014-12-09\" │ 3.3147e5  │ 17044.0   │\n",
       "│ 63  │ \"2015-01-08\" │ \"2015-01-08\" │ \"2015-01-09\" │ 4.92959e5 │ 81281.9   │\n",
       "\n",
       "│ Row │ home_collected1 │ home_collected2 │ mutation     │ ref │ var │\n",
       "├─────┼─────────────────┼─────────────────┼──────────────┼─────┼─────┤\n",
       "│ 1   │ 1               │ 0               │ \"NS_T538C\"   │ \"T\" │ \"C\" │\n",
       "│ 2   │ 1               │ 0               │ \"NR_A501G\"   │ \"A\" │ \"G\" │\n",
       "│ 3   │ 1               │ 0               │ \"HA_T524C\"   │ \"T\" │ \"C\" │\n",
       "│ 4   │ 1               │ 0               │ \"PB1_G1798G\" │ \"G\" │ \"G\" │\n",
       "│ 5   │ 1               │ 0               │ \"PB1_G530A\"  │ \"G\" │ \"A\" │\n",
       "│ 6   │ 1               │ 0               │ \"PB1_G430A\"  │ \"G\" │ \"A\" │\n",
       "│ 7   │ 1               │ 0               │ \"HA_G638A\"   │ \"G\" │ \"A\" │\n",
       "│ 8   │ 1               │ 0               │ \"PB2_G212A\"  │ \"G\" │ \"A\" │\n",
       "│ 9   │ 1               │ 0               │ \"PB1_A1705G\" │ \"A\" │ \"G\" │\n",
       "│ 10  │ 1               │ 0               │ \"PB1_T910A\"  │ \"T\" │ \"A\" │\n",
       "│ 11  │ 1               │ 0               │ \"PA_G1701A\"  │ \"G\" │ \"A\" │\n",
       "⋮\n",
       "│ 52  │ 1               │ 0               │ \"PA_T1065C\"  │ \"T\" │ \"C\" │\n",
       "│ 53  │ 1               │ 0               │ \"PA_G916A\"   │ \"G\" │ \"A\" │\n",
       "│ 54  │ 1               │ 0               │ \"HA_C418T\"   │ \"C\" │ \"T\" │\n",
       "│ 55  │ 1               │ 0               │ \"M_T303C\"    │ \"T\" │ \"C\" │\n",
       "│ 56  │ 1               │ 0               │ \"PB1_G1558T\" │ \"G\" │ \"T\" │\n",
       "│ 57  │ 1               │ 0               │ \"NP_G207G\"   │ \"G\" │ \"G\" │\n",
       "│ 58  │ 1               │ 0               │ \"PB1_A877G\"  │ \"A\" │ \"G\" │\n",
       "│ 59  │ 1               │ 0               │ \"HA_G1670A\"  │ \"G\" │ \"A\" │\n",
       "│ 60  │ 1               │ 0               │ \"NP_C912T\"   │ \"C\" │ \"T\" │\n",
       "│ 61  │ 1               │ 0               │ \"NR_G1099C\"  │ \"G\" │ \"C\" │\n",
       "│ 62  │ 1               │ 0               │ \"NS_A169C\"   │ \"A\" │ \"C\" │\n",
       "│ 63  │ 1               │ 0               │ \"PB1_G1741A\" │ \"G\" │ \"A\" │\n",
       "\n",
       "│ Row │ season      │ pcr_result │ freq1     │ freq2     │ within_host_time │\n",
       "├─────┼─────────────┼────────────┼───────────┼───────────┼──────────────────┤\n",
       "│ 1   │ \"2014-2015\" │ \"A/H3N2\"   │ 0.0487008 │ 0.487579  │ 1                │\n",
       "│ 2   │ \"2014-2015\" │ \"A/H3N2\"   │ 0.0331706 │ 0.467637  │ 1                │\n",
       "│ 3   │ \"2014-2015\" │ \"A/H3N2\"   │ 0.0588456 │ 0.489385  │ 1                │\n",
       "│ 4   │ \"2014-2015\" │ \"A/H3N2\"   │ 0.178817  │ 0.443234  │ 1                │\n",
       "│ 5   │ \"2014-2015\" │ \"A/H3N2\"   │ 0.253518  │ 0.47336   │ 1                │\n",
       "│ 6   │ \"2014-2015\" │ \"A/H3N2\"   │ 0.220773  │ 0.0396486 │ 1                │\n",
       "│ 7   │ \"2014-2015\" │ \"A/H3N2\"   │ 0.213904  │ 0.0359769 │ 1                │\n",
       "│ 8   │ \"2014-2015\" │ \"A/H3N2\"   │ 0.302404  │ 0.470122  │ 1                │\n",
       "│ 9   │ \"2014-2015\" │ \"A/H3N2\"   │ 0.296343  │ 0.461351  │ 1                │\n",
       "│ 10  │ \"2014-2015\" │ \"A/H3N2\"   │ 0.340472  │ 0.0421433 │ 2                │\n",
       "│ 11  │ \"2014-2015\" │ \"A/H3N2\"   │ 0.230504  │ 0.523499  │ 2                │\n",
       "⋮\n",
       "│ 52  │ \"2014-2015\" │ \"A/H3N2\"   │ 0.0233692 │ 0.0       │ 2                │\n",
       "│ 53  │ \"2014-2015\" │ \"A/H3N2\"   │ 0.0475819 │ 0.0365481 │ 1                │\n",
       "│ 54  │ \"2014-2015\" │ \"A/H3N2\"   │ 0.0315553 │ 0.0       │ 3                │\n",
       "│ 55  │ \"2014-2015\" │ \"A/H3N2\"   │ 0.0309374 │ 0.0       │ 3                │\n",
       "│ 56  │ \"2014-2015\" │ \"A/H3N2\"   │ 0.0243698 │ 0.0       │ 3                │\n",
       "│ 57  │ \"2014-2015\" │ \"A/H3N2\"   │ 0.0236825 │ 0.0       │ 3                │\n",
       "│ 58  │ \"2014-2015\" │ \"A/H3N2\"   │ 0.0208654 │ 0.0       │ 3                │\n",
       "│ 59  │ \"2014-2015\" │ \"A/H3N2\"   │ 0.0289439 │ 0.0349313 │ 1                │\n",
       "│ 60  │ \"2014-2015\" │ \"A/H3N2\"   │ 0.0238459 │ 0.0       │ 4                │\n",
       "│ 61  │ \"2014-2015\" │ \"A/H3N2\"   │ 0.036404  │ 0.0305729 │ 1                │\n",
       "│ 62  │ \"2014-2015\" │ \"A/H3N2\"   │ 0.39966   │ 0.382375  │ 3                │\n",
       "│ 63  │ \"2014-2015\" │ \"A/H3N2\"   │ 0.0267898 │ 0.0245799 │ 1                │\n",
       "\n",
       "│ Row │ donor_class     │ generations │ delta2       │ delta        │\n",
       "├─────┼─────────────────┼─────────────┼──────────────┼──────────────┤\n",
       "│ 1   │ \"Nonsynonymous\" │ 4           │ -0.225082    │ -0.10972     │\n",
       "│ 2   │ \"Nonsynonymous\" │ 4           │ -0.211027    │ -0.108617    │\n",
       "│ 3   │ \"Synonymous\"    │ 4           │ -0.223974    │ -0.107635    │\n",
       "│ 4   │ \"Synonymous\"    │ 4           │ -0.144583    │ -0.0661043   │\n",
       "│ 5   │ \"Nonsynonymous\" │ 4           │ -0.139803    │ -0.0549605   │\n",
       "│ 6   │ \"Synonymous\"    │ 4           │ -0.0605093   │ -0.045281    │\n",
       "│ 7   │ \"Synonymous\"    │ 4           │ -0.0586976   │ -0.0444819   │\n",
       "│ 8   │ \"Nonsynonymous\" │ 4           │ -0.113433    │ -0.0419293   │\n",
       "│ 9   │ \"Synonymous\"    │ 4           │ -0.108837    │ -0.0412519   │\n",
       "│ 10  │ \"Synonymous\"    │ 8           │ -0.0590299   │ -0.0372912   │\n",
       "│ 11  │ \"Synonymous\"    │ 8           │ -0.0998851   │ -0.0366244   │\n",
       "⋮\n",
       "│ 52  │ \"Synonymous\"    │ 8           │ -0.00299104  │ -0.00292115  │\n",
       "│ 53  │ \"Nonsynonymous\" │ 4           │ -0.00300612  │ -0.00275844  │\n",
       "│ 54  │ \"Nonsynonymous\" │ 12          │ -0.00271529  │ -0.00262961  │\n",
       "│ 55  │ \"Nonsynonymous\" │ 12          │ -0.00266042  │ -0.00257812  │\n",
       "│ 56  │ \"Synonymous\"    │ 12          │ -0.00208154  │ -0.00203081  │\n",
       "│ 57  │ \"Synonymous\"    │ 12          │ -0.00202141  │ -0.00197354  │\n",
       "│ 58  │ \"Synonymous\"    │ 12          │ -0.00177584  │ -0.00173878  │\n",
       "│ 59  │ \"Synonymous\"    │ 4           │ -0.00159728  │ -0.00149687  │\n",
       "│ 60  │ \"Synonymous\"    │ 16          │ -0.00152678  │ -0.00149037  │\n",
       "│ 61  │ \"Synonymous\"    │ 4           │ -0.00156054  │ -0.00145776  │\n",
       "│ 62  │ \"Nonsynonymous\" │ 12          │ -0.00388488  │ -0.00144046  │\n",
       "│ 63  │ \"Synonymous\"    │ 4           │ -0.000581979 │ -0.000552466 │"
      ]
     },
     "execution_count": 23,
     "metadata": {},
     "output_type": "execute_result"
    }
   ],
   "source": [
    "ratio(x) = x/(1-x)\n",
    "minor[:delta2] = -1*abs(ratio.(minor[:freq1]) .- ratio.(minor[:freq2])) ./ minor[:generations] # So the most extreme is on top of the order\n",
    "minor[:delta] = -1*abs(minor[:freq2] .- minor[:freq1]) ./ minor[:generations] # So the most extreme is on top of the order\n",
    "\n",
    "\n",
    "minorOrdered = sort!(minor,cols = order(:delta,))\n"
   ]
  },
  {
   "cell_type": "code",
   "execution_count": 24,
   "metadata": {},
   "outputs": [],
   "source": [
    "Nₑ = zeros(nrow(minorOrdered))\n",
    "#p = Progress(nrow(minorOrdered), 1)\n",
    "maxN = 70\n",
    "minN = 1\n",
    "for i in 1:nrow(minorOrdered)\n",
    "    if maxN>450\n",
    "        break\n",
    "    end\n",
    "    Nₑ[i] = MLfit(minorOrdered[i:nrow(minorOrdered),:],minN,maxN)[1]\n",
    "    if maxN==Nₑ[i]\n",
    "        while maxN==Nₑ[i]\n",
    "        maxN +=50\n",
    "        minN +=50\n",
    "        if maxN>450\n",
    "            break\n",
    "        end\n",
    "        Nₑ[i] = MLfit(minorOrdered[i:nrow(minorOrdered),:],minN,maxN)[1]\n",
    "        end\n",
    "    end\n",
    "#    next!(p)\n",
    "end"
   ]
  },
  {
   "cell_type": "code",
   "execution_count": 25,
   "metadata": {},
   "outputs": [
    {
     "name": "stdout",
     "output_type": "stream",
     "text": [
      "[32.0,32.0,40.0,48.0,50.0,51.0,54.0,56.0,57.0,58.0,62.0,65.0,69.0,70.0,77.0,93.0,108.0,110.0,118.0,117.0,114.0,113.0,112.0,118.0,123.0,143.0,149.0,154.0,159.0,152.0,157.0,161.0,153.0,145.0,159.0,162.0,184.0,172.0,161.0,183.0,169.0,155.0,180.0,252.0,240.0,213.0,201.0,349.0,301.0,301.0,301.0,301.0,301.0,301.0,301.0,420.0,0.0,0.0,0.0,0.0,0.0,0.0,0.0]"
     ]
    }
   ],
   "source": [
    "print(Nₑ)"
   ]
  },
  {
   "cell_type": "code",
   "execution_count": 26,
   "metadata": {
    "scrolled": false
   },
   "outputs": [
    {
     "name": "stdout",
     "output_type": "stream",
     "text": [
      "[32.0,32.0,40.0,48.0,50.0,51.0,54.0,56.0,57.0,58.0,62.0,65.0,69.0,70.0,77.0,93.0,108.0,110.0,118.0,117.0,114.0,113.0,112.0,118.0,123.0,143.0,149.0,154.0,159.0,152.0,157.0,161.0,153.0,145.0,159.0,162.0,184.0,172.0,161.0,183.0,169.0,155.0,180.0,252.0,240.0,213.0,201.0,349.0,301.0,301.0,301.0,301.0,301.0,301.0,301.0,420.0]\n",
      "[55]\n",
      "[0.873016]\n"
     ]
    }
   ],
   "source": [
    "N=Nₑ[Nₑ.>0]\n",
    "println(N)\n",
    "\n",
    "x = 0:(length(N)-1) \n",
    "println(maximum(x,1))\n",
    "x = x./nrow(minorOrdered)\n",
    "\n",
    "println(maximum(x,1))\n",
    "\n",
    "Ndf = DataFrame(Ne=N,removed = x)\n",
    "writetable(\"../data/processed/secondary/removed_data.csv\",Ndf)\n",
    "\n",
    "#plot(x,N,xlim = [0,1],ylim = [0,450])"
   ]
  },
  {
   "cell_type": "code",
   "execution_count": 27,
   "metadata": {},
   "outputs": [
    {
     "data": {
      "text/plain": [
       "0.14285714285714285"
      ]
     },
     "execution_count": 27,
     "metadata": {},
     "output_type": "execute_result"
    }
   ],
   "source": [
    "N[32]\n",
    "9/63"
   ]
  },
  {
   "cell_type": "code",
   "execution_count": 28,
   "metadata": {},
   "outputs": [
    {
     "name": "stdout",
     "output_type": "stream",
     "text": [
      "[32.0,32.0,39.0,48.0,50.0,51.0,53.0,53.0,54.0,55.0,59.0,63.0,69.0,70.0,82.0,93.0,108.0,110.0,118.0,117.0,114.0,113.0,112.0,129.0,136.0,143.0,149.0,142.0,147.0,152.0,142.0,135.0,139.0,132.0,135.0,147.0,138.0,141.0,159.0,147.0,134.0,123.0,109.0,123.0,154.0,132.0,163.0,150.0,127.0,185.0,151.0,151.0,151.0,151.0,151.0,154.0,218.0,357.0,420.0,0.0,0.0,0.0,0.0][32.0,32.0,39.0,48.0,50.0,51.0,53.0,53.0,54.0,55.0,59.0,63.0,69.0,70.0,82.0,93.0,108.0,110.0,118.0,117.0,114.0,113.0,112.0,129.0,136.0,143.0,149.0,142.0,147.0,152.0,142.0,135.0,139.0,132.0,135.0,147.0,138.0,141.0,159.0,147.0,134.0,123.0,109.0,123.0,154.0,132.0,163.0,150.0,127.0,185.0,151.0,151.0,151.0,151.0,151.0,154.0,218.0,357.0,420.0]\n",
      "[58]\n",
      "[0.920635]\n"
     ]
    }
   ],
   "source": [
    "minorOrdered2 = sort!(minor,cols = order(:delta2,))\n",
    "\n",
    "Nₑ = zeros(nrow(minorOrdered2))\n",
    "#p = Progress(nrow(minorOrdered2), 1)\n",
    "maxN = 70\n",
    "minN = 1\n",
    "for i in 1:nrow(minorOrdered2)\n",
    "    if maxN>450\n",
    "        break\n",
    "    end\n",
    "    Nₑ[i] = MLfit(minorOrdered2[i:nrow(minorOrdered2),:],minN,maxN)[1]\n",
    "    if maxN==Nₑ[i]\n",
    "        while maxN==Nₑ[i]\n",
    "        maxN +=50\n",
    "        minN +=50\n",
    "        if maxN>450\n",
    "            break\n",
    "        end\n",
    "        Nₑ[i] = MLfit(minorOrdered2[i:nrow(minorOrdered2),:],minN,maxN)[1]\n",
    "        end\n",
    "    end\n",
    "#    next!(p)\n",
    "end\n",
    "\n",
    "print(Nₑ)\n",
    "\n",
    "N=Nₑ[Nₑ.>0]\n",
    "println(N)\n",
    "\n",
    "x = 0:(length(N)-1) \n",
    "println(maximum(x,1))\n",
    "x = x./nrow(minorOrdered2)\n",
    "\n",
    "println(maximum(x,1))\n",
    "\n",
    "Ndf = DataFrame(Ne=N,removed = x)\n",
    "writetable(\"../data/processed/secondary/removed_data_ratio.csv\",Ndf)\n",
    "\n",
    "#plot(x,N,xlim = [0,1],ylim = [0,450])"
   ]
  },
  {
   "cell_type": "markdown",
   "metadata": {},
   "source": [
    "This is work exploring why the curve is not monotonic. It is because when we remove some iSNV the likelihood is hurt by the probabilty of hitting the initial frequency which is constrained by the frequency spread in the data."
   ]
  },
  {
   "cell_type": "code",
   "execution_count": 29,
   "metadata": {},
   "outputs": [
    {
     "ename": "LoadError",
     "evalue": "MethodError: no method matching LogLikedf(::DataFrames.DataFrame)\u001b[0m\nClosest candidates are:\n  LogLikedf(::DataFrames.DataFrame, \u001b[1m\u001b[31m::Int64\u001b[0m) at In[29]:2\u001b[0m",
     "output_type": "error",
     "traceback": [
      "MethodError: no method matching LogLikedf(::DataFrames.DataFrame)\u001b[0m\nClosest candidates are:\n  LogLikedf(::DataFrames.DataFrame, \u001b[1m\u001b[31m::Int64\u001b[0m) at In[29]:2\u001b[0m",
      ""
     ]
    }
   ],
   "source": [
    "function LogLikedf(data::DataFrame,Nₑ::Int)\n",
    "    row,col = size(data)\n",
    "    \n",
    "    LL = zeros(row)\n",
    "    for i in 1:row\n",
    "        LL[i] = log(pTransition(data[:freq2][i],data[:freq1][i],Nₑ,data[:generations][i]))\n",
    "    end\n",
    "    LL\n",
    "end\n",
    "minorOrdered[:out_418]=LogLikedf(minorOrdered,418)\n",
    "minorOrdered[:out_213]=LogLikedf(minorOrdered,)\n",
    "minorOrdered[:diff] = minorOrdered[:out_213] .-minorOrdered[:out_240]\n",
    "minorOrdered[45:63,:]"
   ]
  },
  {
   "cell_type": "code",
   "execution_count": 30,
   "metadata": {},
   "outputs": [
    {
     "ename": "LoadError",
     "evalue": "KeyError: key :out_240 not found",
     "output_type": "error",
     "traceback": [
      "KeyError: key :out_240 not found",
      "",
      " in getindex at ./dict.jl:697 [inlined]",
      " in getindex(::DataFrames.Index, ::Symbol) at /home/mccrone/.julia/v0.5/DataFrames/src/other/index.jl:114",
      " in getindex(::DataFrames.DataFrame, ::Symbol) at /home/mccrone/.julia/v0.5/DataFrames/src/dataframe/dataframe.jl:228"
     ]
    }
   ],
   "source": [
    "sum(minorOrdered[:out_240][46:63]) - sum(minorOrdered[:out_213][46:63])\n",
    "\n"
   ]
  },
  {
   "cell_type": "markdown",
   "metadata": {},
   "source": [
    "## Simulations \n",
    "\n",
    "Ok the goal here is to simulate drift using our starting points and time intervals over a number of different effective populations sizes. We will then estimate the $N\\_e$ from those simulations and check our accuracy.\n",
    "\n",
    "At this point I will round the initial frequency to the nearest available frequency above 0.\n",
    "\n",
    "This is now run in the separate script in the script directory.\n"
   ]
  },
  {
   "cell_type": "markdown",
   "metadata": {
    "collapsed": true
   },
   "source": [
    "# Generation = 12 hours"
   ]
  },
  {
   "cell_type": "code",
   "execution_count": 90,
   "metadata": {},
   "outputs": [
    {
     "name": "stderr",
     "output_type": "stream",
     "text": [
      "┌ Warning: `getindex(df::DataFrame, col_ind::ColumnIndex)` is deprecated, use `df[!, col_ind]` instead.\n",
      "│   caller = top-level scope at In[90]:1\n",
      "└ @ Core In[90]:1\n",
      "┌ Warning: `setindex!(df::DataFrame, v::AbstractVector, col_ind::ColumnIndex)` is deprecated, use `begin\n",
      "│     df[!, col_ind] = v\n",
      "│     df\n",
      "│ end` instead.\n",
      "│   caller = top-level scope at In[90]:1\n",
      "└ @ Core In[90]:1\n"
     ]
    }
   ],
   "source": [
    "minor[:generations] = minor[:within_host_time]*2\n",
    "\n",
    "\n",
    "LL = zeros(100)\n",
    "#p = Progress(length(LL), 1)\n",
    "for N in 1:100\n",
    "    #println(N)\n",
    "    LL[N]= LogLike(minor,N)\n",
    "#    next!(p)\n",
    "end\n",
    "Nₑ=findall(x->x==maximum(LL), LL)[1]\n",
    "write_to_summary(\"Discrete model 12 Ne:\",Nₑ)"
   ]
  },
  {
   "cell_type": "code",
   "execution_count": 91,
   "metadata": {
    "scrolled": false
   },
   "outputs": [],
   "source": [
    "#plot(Nₑ-20:Nₑ+20,LL[Nₑ-20:Nₑ+20],ylim=[LL[Nₑ]-10,LL[Nₑ]+0.5])"
   ]
  },
  {
   "cell_type": "code",
   "execution_count": 92,
   "metadata": {},
   "outputs": [],
   "source": [
    "ci = CI_interval(LL,Nₑ)\n",
    "write_to_summary(\"Discrete model 12 CI:\",ci)"
   ]
  },
  {
   "cell_type": "markdown",
   "metadata": {},
   "source": [
    "## Synonymous"
   ]
  },
  {
   "cell_type": "code",
   "execution_count": 93,
   "metadata": {},
   "outputs": [
    {
     "name": "stdout",
     "output_type": "stream",
     "text": [
      "27"
     ]
    },
    {
     "name": "stderr",
     "output_type": "stream",
     "text": [
      "┌ Warning: `getindex(df::DataFrame, col_ind::ColumnIndex)` is deprecated, use `df[!, col_ind]` instead.\n",
      "│   caller = top-level scope at In[93]:1\n",
      "└ @ Core In[93]:1\n"
     ]
    }
   ],
   "source": [
    "S = minor[minor[:donor_class].==\"Synonymous\",:]\n",
    "LL = zeros(100)\n",
    "#p = Progress(length(LL), 1)\n",
    "for N in 1:100\n",
    "    #println(N)\n",
    "    LL[N]= LogLike(S,N)\n",
    "#    next!(p)\n",
    "end\n",
    "Nₑ=findall(x->x==maximum(LL), LL)[1]\n",
    "print(Nₑ)\n",
    "write_to_summary(\"S Ne 12:\",Nₑ)"
   ]
  },
  {
   "cell_type": "code",
   "execution_count": 94,
   "metadata": {},
   "outputs": [],
   "source": [
    "ci = CI_interval(LL,Nₑ)\n",
    "write_to_summary(\"S CI 12:\",ci)"
   ]
  },
  {
   "cell_type": "code",
   "execution_count": 95,
   "metadata": {},
   "outputs": [],
   "source": [
    "#plot(Nₑ-20:Nₑ+20,LL[Nₑ-20:Nₑ+20],ylim=[LL[Nₑ]-10,LL[Nₑ]+0.5])\n"
   ]
  },
  {
   "cell_type": "code",
   "execution_count": 96,
   "metadata": {},
   "outputs": [
    {
     "name": "stdout",
     "output_type": "stream",
     "text": [
      "36"
     ]
    }
   ],
   "source": [
    "print(nrow(S))"
   ]
  },
  {
   "cell_type": "markdown",
   "metadata": {},
   "source": [
    "## Nonsynonymous"
   ]
  },
  {
   "cell_type": "code",
   "execution_count": 97,
   "metadata": {},
   "outputs": [
    {
     "name": "stderr",
     "output_type": "stream",
     "text": [
      "┌ Warning: `getindex(df::DataFrame, col_ind::ColumnIndex)` is deprecated, use `df[!, col_ind]` instead.\n",
      "│   caller = top-level scope at In[97]:1\n",
      "└ @ Core In[97]:1\n"
     ]
    }
   ],
   "source": [
    "NS = minor[minor[:donor_class].==\"Nonsynonymous\",:]\n",
    "LL = zeros(100)\n",
    "#p = Progress(length(LL), 1)\n",
    "for N in 1:100\n",
    "    #println(N)\n",
    "    LL[N]= LogLike(NS,N)\n",
    "#    next!(p)\n",
    "end\n",
    "Nₑ=findall(x->x==maximum(LL), LL)[1]\n",
    "write_to_summary(\"NS Ne 12:\",Nₑ)"
   ]
  },
  {
   "cell_type": "code",
   "execution_count": 98,
   "metadata": {},
   "outputs": [],
   "source": [
    "ci = CI_interval(LL,Nₑ)\n",
    "write_to_summary(\"NS CI 12\",ci)"
   ]
  },
  {
   "cell_type": "code",
   "execution_count": 40,
   "metadata": {},
   "outputs": [],
   "source": [
    "#plot(LL,ylim=[LL[Nₑ]-10,LL[Nₑ]+0.5])\n"
   ]
  },
  {
   "cell_type": "code",
   "execution_count": null,
   "metadata": {},
   "outputs": [],
   "source": []
  }
 ],
 "metadata": {
  "kernelspec": {
   "display_name": "Julia 1.0.5",
   "language": "julia",
   "name": "julia-1.0"
  },
  "language_info": {
   "file_extension": ".jl",
   "mimetype": "application/julia",
   "name": "julia",
   "version": "1.0.5"
  }
 },
 "nbformat": 4,
 "nbformat_minor": 2
}
